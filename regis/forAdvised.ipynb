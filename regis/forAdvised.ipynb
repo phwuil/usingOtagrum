{
 "cells": [
  {
   "cell_type": "code",
   "execution_count": 1,
   "metadata": {
    "ExecuteTime": {
     "end_time": "2019-06-18T13:39:44.745812Z",
     "start_time": "2019-06-18T13:39:44.733767Z"
    }
   },
   "outputs": [],
   "source": [
    "import openturns as ot\n",
    "import otagrum as otagr\n",
    "import pyAgrum as gum\n",
    "import pyAgrum.lib.notebook as gnb\n",
    "\n",
    "def petiteDemo(Y,Z,X):\n",
    "    \"\"\"\n",
    "    Print some results just for fun\n",
    "    \"\"\"\n",
    "    _,p,b=t.isIndep(Y,Z,[])\n",
    "    if b:\n",
    "        print(f\"{Y} et {Z} sont indépendants ({100*p:5.3}%)\")\n",
    "    else:\n",
    "        print(f\"{Y} et {Z} ne sont pas indépendants ({100*p:5.3}%)\")\n",
    "    print(\" alors que\")\n",
    "    \n",
    "    _,p,b=t.isIndep(Y,Z,X)\n",
    "    if t.isIndep(Y,Z,X)[2]:\n",
    "        print(f\"{Y} et {Z} sont indépendants sachant {X} ({100*p:5.3}%)\")\n",
    "    else:\n",
    "        print(f\"{Y} et {Z} ne sont pas indépendants sachant {X} ({100*p:5.3}%)\")"
   ]
  },
  {
   "cell_type": "code",
   "execution_count": 2,
   "metadata": {
    "ExecuteTime": {
     "end_time": "2019-06-18T13:41:50.335223Z",
     "start_time": "2019-06-18T13:41:50.322359Z"
    }
   },
   "outputs": [],
   "source": [
    "X = ot.Sample.ImportFromCSVFile(\"advised.csv\")\n",
    "\n",
    "alpha = 0.1\n",
    "\n",
    "t=otagr.ContinuousTTest(X)\n",
    "t.setAlpha(alpha)\n",
    "\n",
    "conditionning = 3\n",
    "learner = otagr.ContinuousPC(X, conditionning, alpha)"
   ]
  },
  {
   "cell_type": "code",
   "execution_count": 6,
   "metadata": {
    "ExecuteTime": {
     "end_time": "2019-06-18T13:41:58.639720Z",
     "start_time": "2019-06-18T13:41:50.846494Z"
    }
   },
   "outputs": [
    {
     "data": {
      "text/html": [
       "<table style=\"border-style: hidden; border-collapse: collapse;\" width=\"100%\"><tr><td style=\"border-top:hidden;border-bottom:hidden;\"><div align=\"center\" style=\"\"><Swig Object of type 'gum::UndiGraph *' at 0x7f78b3861390></div></td><td style=\"border-top:hidden;border-bottom:hidden;\"><div align=\"center\" style=\"\"><Swig Object of type 'gum::MixedGraph *' at 0x7f78b3861bd0></div></td><td style=\"border-top:hidden;border-bottom:hidden;\"><div align=\"center\" style=\"\"><svg height=\"132pt\" viewBox=\"0.00 0.00 360.00 131.92\" width=\"360pt\" xmlns=\"http://www.w3.org/2000/svg\" xmlns:xlink=\"http://www.w3.org/1999/xlink\">\n",
       "<g class=\"graph\" id=\"graph0\" transform=\"scale(.7017 .7017) rotate(0) translate(4 184)\">\n",
       "<title>G</title>\n",
       "<!-- data_8 -->\n",
       "<g class=\"node\" id=\"node1\">\n",
       "<title>data_8</title>\n",
       "<ellipse cx=\"41.5963\" cy=\"-90\" fill=\"none\" rx=\"41.6928\" ry=\"18\" stroke=\"#000000\"/>\n",
       "<text fill=\"#000000\" font-family=\"Times,serif\" font-size=\"14.00\" text-anchor=\"middle\" x=\"41.5963\" y=\"-86.3\">data_8</text>\n",
       "</g>\n",
       "<!-- data_7 -->\n",
       "<g class=\"node\" id=\"node2\">\n",
       "<title>data_7</title>\n",
       "<ellipse cx=\"91.5963\" cy=\"-18\" fill=\"none\" rx=\"41.6928\" ry=\"18\" stroke=\"#000000\"/>\n",
       "<text fill=\"#000000\" font-family=\"Times,serif\" font-size=\"14.00\" text-anchor=\"middle\" x=\"91.5963\" y=\"-14.3\">data_7</text>\n",
       "</g>\n",
       "<!-- data_8&#45;&gt;data_7 -->\n",
       "<g class=\"edge\" id=\"edge1\">\n",
       "<title>data_8-&gt;data_7</title>\n",
       "<path d=\"M53.6999,-72.5708C59.7187,-63.9038 67.1108,-53.2592 73.7633,-43.6796\" fill=\"none\" stroke=\"#4a4a4a\"/>\n",
       "<polygon fill=\"#4a4a4a\" points=\"76.775,-45.4788 79.6042,-35.2687 71.0254,-41.486 76.775,-45.4788\" stroke=\"#4a4a4a\"/>\n",
       "</g>\n",
       "<!-- data_1 -->\n",
       "<g class=\"node\" id=\"node3\">\n",
       "<title>data_1</title>\n",
       "<ellipse cx=\"249.5963\" cy=\"-162\" fill=\"none\" rx=\"41.6928\" ry=\"18\" stroke=\"#000000\"/>\n",
       "<text fill=\"#000000\" font-family=\"Times,serif\" font-size=\"14.00\" text-anchor=\"middle\" x=\"249.5963\" y=\"-158.3\">data_1</text>\n",
       "</g>\n",
       "<!-- data_13 -->\n",
       "<g class=\"node\" id=\"node4\">\n",
       "<title>data_13</title>\n",
       "<ellipse cx=\"249.5963\" cy=\"-90\" fill=\"none\" rx=\"47.3916\" ry=\"18\" stroke=\"#000000\"/>\n",
       "<text fill=\"#000000\" font-family=\"Times,serif\" font-size=\"14.00\" text-anchor=\"middle\" x=\"249.5963\" y=\"-86.3\">data_13</text>\n",
       "</g>\n",
       "<!-- data_1&#45;&gt;data_13 -->\n",
       "<g class=\"edge\" id=\"edge2\">\n",
       "<title>data_1-&gt;data_13</title>\n",
       "<path d=\"M249.5963,-143.8314C249.5963,-136.131 249.5963,-126.9743 249.5963,-118.4166\" fill=\"none\" stroke=\"#4a4a4a\"/>\n",
       "<polygon fill=\"#4a4a4a\" points=\"253.0964,-118.4132 249.5963,-108.4133 246.0964,-118.4133 253.0964,-118.4132\" stroke=\"#4a4a4a\"/>\n",
       "</g>\n",
       "<!-- data_9 -->\n",
       "<g class=\"node\" id=\"node5\">\n",
       "<title>data_9</title>\n",
       "<ellipse cx=\"350.5963\" cy=\"-162\" fill=\"none\" rx=\"41.6928\" ry=\"18\" stroke=\"#000000\"/>\n",
       "<text fill=\"#000000\" font-family=\"Times,serif\" font-size=\"14.00\" text-anchor=\"middle\" x=\"350.5963\" y=\"-158.3\">data_9</text>\n",
       "</g>\n",
       "<!-- data_11 -->\n",
       "<g class=\"node\" id=\"node6\">\n",
       "<title>data_11</title>\n",
       "<ellipse cx=\"410.5963\" cy=\"-90\" fill=\"none\" rx=\"47.3916\" ry=\"18\" stroke=\"#000000\"/>\n",
       "<text fill=\"#000000\" font-family=\"Times,serif\" font-size=\"14.00\" text-anchor=\"middle\" x=\"410.5963\" y=\"-86.3\">data_11</text>\n",
       "</g>\n",
       "<!-- data_9&#45;&gt;data_11 -->\n",
       "<g class=\"edge\" id=\"edge3\">\n",
       "<title>data_9-&gt;data_11</title>\n",
       "<path d=\"M364.8155,-144.937C372.1794,-136.1003 381.3168,-125.1354 389.4871,-115.3311\" fill=\"none\" stroke=\"#4a4a4a\"/>\n",
       "<polygon fill=\"#4a4a4a\" points=\"392.3493,-117.3636 396.0624,-107.4407 386.9718,-112.8823 392.3493,-117.3636\" stroke=\"#4a4a4a\"/>\n",
       "</g>\n",
       "<!-- data_4 -->\n",
       "<g class=\"node\" id=\"node7\">\n",
       "<title>data_4</title>\n",
       "<ellipse cx=\"142.5963\" cy=\"-90\" fill=\"none\" rx=\"41.6928\" ry=\"18\" stroke=\"#000000\"/>\n",
       "<text fill=\"#000000\" font-family=\"Times,serif\" font-size=\"14.00\" text-anchor=\"middle\" x=\"142.5963\" y=\"-86.3\">data_4</text>\n",
       "</g>\n",
       "<!-- data_4&#45;&gt;data_7 -->\n",
       "<g class=\"edge\" id=\"edge4\">\n",
       "<title>data_4-&gt;data_7</title>\n",
       "<path d=\"M130.2506,-72.5708C124.1115,-63.9038 116.5716,-53.2592 109.786,-43.6796\" fill=\"none\" stroke=\"#4a4a4a\"/>\n",
       "<polygon fill=\"#4a4a4a\" points=\"112.4646,-41.4059 103.8283,-35.2687 106.7524,-45.452 112.4646,-41.4059\" stroke=\"#4a4a4a\"/>\n",
       "</g>\n",
       "<!-- data_12 -->\n",
       "<g class=\"node\" id=\"node8\">\n",
       "<title>data_12</title>\n",
       "<ellipse cx=\"457.5963\" cy=\"-162\" fill=\"none\" rx=\"47.3916\" ry=\"18\" stroke=\"#000000\"/>\n",
       "<text fill=\"#000000\" font-family=\"Times,serif\" font-size=\"14.00\" text-anchor=\"middle\" x=\"457.5963\" y=\"-158.3\">data_12</text>\n",
       "</g>\n",
       "<!-- data_12&#45;&gt;data_11 -->\n",
       "<g class=\"edge\" id=\"edge5\">\n",
       "<title>data_12-&gt;data_11</title>\n",
       "<path d=\"M445.9783,-144.2022C440.4575,-135.7448 433.7493,-125.4685 427.6645,-116.147\" fill=\"none\" stroke=\"#4a4a4a\"/>\n",
       "<polygon fill=\"#4a4a4a\" points=\"430.4777,-114.0536 422.0806,-107.593 424.6161,-117.88 430.4777,-114.0536\" stroke=\"#4a4a4a\"/>\n",
       "</g>\n",
       "<!-- data_2 -->\n",
       "<g class=\"node\" id=\"node9\">\n",
       "<title>data_2</title>\n",
       "<ellipse cx=\"142.5963\" cy=\"-162\" fill=\"none\" rx=\"41.6928\" ry=\"18\" stroke=\"#000000\"/>\n",
       "<text fill=\"#000000\" font-family=\"Times,serif\" font-size=\"14.00\" text-anchor=\"middle\" x=\"142.5963\" y=\"-158.3\">data_2</text>\n",
       "</g>\n",
       "<!-- data_2&#45;&gt;data_4 -->\n",
       "<g class=\"edge\" id=\"edge6\">\n",
       "<title>data_2-&gt;data_4</title>\n",
       "<path d=\"M142.5963,-143.8314C142.5963,-136.131 142.5963,-126.9743 142.5963,-118.4166\" fill=\"none\" stroke=\"#4a4a4a\"/>\n",
       "<polygon fill=\"#4a4a4a\" points=\"146.0964,-118.4132 142.5963,-108.4133 139.0964,-118.4133 146.0964,-118.4132\" stroke=\"#4a4a4a\"/>\n",
       "</g>\n",
       "</g>\n",
       "</svg></div></td></tr></table>"
      ],
      "text/plain": [
       "<IPython.core.display.HTML object>"
      ]
     },
     "metadata": {},
     "output_type": "display_data"
    }
   ],
   "source": [
    "dag = learner.learnDAG()\n",
    "gnb.sideBySide(learner.learnSkeleton(),learner.learnPDAG(),gnb.getDot(dag.toDot()))"
   ]
  },
  {
   "cell_type": "code",
   "execution_count": 7,
   "metadata": {
    "ExecuteTime": {
     "end_time": "2019-06-18T13:42:19.931042Z",
     "start_time": "2019-06-18T13:42:19.917371Z"
    }
   },
   "outputs": [
    {
     "name": "stdout",
     "output_type": "stream",
     "text": [
      "3 et 13 sont indépendants ( 13.0%)\n",
      " alors que\n",
      "3 et 13 sont indépendants sachant [1] ( 98.0%)\n"
     ]
    }
   ],
   "source": [
    "petiteDemo(3,13,[1])"
   ]
  },
  {
   "cell_type": "code",
   "execution_count": 8,
   "metadata": {
    "ExecuteTime": {
     "end_time": "2019-06-18T13:46:11.750876Z",
     "start_time": "2019-06-18T13:46:11.739856Z"
    }
   },
   "outputs": [
    {
     "name": "stdout",
     "output_type": "stream",
     "text": [
      "2 et 8 sont indépendants ( 93.6%)\n",
      " alors que\n",
      "2 et 8 sont indépendants sachant [7] ( 94.3%)\n"
     ]
    }
   ],
   "source": [
    "petiteDemo(2,8,[7])"
   ]
  },
  {
   "cell_type": "code",
   "execution_count": 9,
   "metadata": {
    "ExecuteTime": {
     "end_time": "2019-06-18T14:01:46.905361Z",
     "start_time": "2019-06-18T14:01:46.899891Z"
    }
   },
   "outputs": [
    {
     "name": "stdout",
     "output_type": "stream",
     "text": [
      "Data dimension : 14\n",
      "Data size : 200\n",
      "Cache : \n",
      "      |2 : [3,13]:6, [1,3]:5, [1,13]:5, [2,8]:6, [7,2]:5, [7,8]:5\n",
      "      |3 : [1,3,13]:5, [7,2,8]:5\n",
      "\n",
      "alpha :0.1\n",
      "\n"
     ]
    }
   ],
   "source": [
    "print(t)"
   ]
  },
  {
   "cell_type": "code",
   "execution_count": null,
   "metadata": {},
   "outputs": [],
   "source": []
  },
  {
   "cell_type": "code",
   "execution_count": null,
   "metadata": {},
   "outputs": [],
   "source": []
  }
 ],
 "metadata": {
  "hide_input": false,
  "kernelspec": {
   "display_name": "Python 3",
   "language": "python",
   "name": "python3"
  },
  "language_info": {
   "codemirror_mode": {
    "name": "ipython",
    "version": 3
   },
   "file_extension": ".py",
   "mimetype": "text/x-python",
   "name": "python",
   "nbconvert_exporter": "python",
   "pygments_lexer": "ipython3",
   "version": "3.7.4"
  }
 },
 "nbformat": 4,
 "nbformat_minor": 2
}
