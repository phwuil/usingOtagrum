{
 "cells": [
  {
   "cell_type": "code",
   "execution_count": 1,
   "metadata": {
    "ExecuteTime": {
     "end_time": "2019-06-20T16:18:26.206680Z",
     "start_time": "2019-06-20T16:18:25.750754Z"
    }
   },
   "outputs": [],
   "source": [
    "import pyAgrum as gum\n",
    "import pyAgrum.lib.notebook as gnb\n",
    "\n",
    "import openturns as ot\n",
    "\n",
    "import otagrum as otagr"
   ]
  },
  {
   "cell_type": "code",
   "execution_count": 12,
   "metadata": {
    "ExecuteTime": {
     "end_time": "2019-06-20T16:23:44.199686Z",
     "start_time": "2019-06-20T16:23:44.195533Z"
    }
   },
   "outputs": [],
   "source": [
    "folder=\"data/winequality/\"\n",
    "#with open (f\"{folder}/struct.txt\", \"r\") as ff:\n",
    "#    struct=ff.readlines()[0].strip()\n",
    "#gum.fastBN(struct)"
   ]
  },
  {
   "cell_type": "code",
   "execution_count": 15,
   "metadata": {
    "ExecuteTime": {
     "end_time": "2019-06-20T16:24:09.820528Z",
     "start_time": "2019-06-20T16:24:09.806236Z"
    }
   },
   "outputs": [],
   "source": [
    "X = ot.Sample.ImportFromCSVFile(f\"{folder}/winequality-red.csv\")\n",
    "alpha=0.1\n",
    "conditionning = 3"
   ]
  },
  {
   "cell_type": "code",
   "execution_count": 17,
   "metadata": {
    "ExecuteTime": {
     "end_time": "2019-06-20T16:24:41.710267Z",
     "start_time": "2019-06-20T16:24:35.357059Z"
    }
   },
   "outputs": [
    {
     "data": {
      "text/html": [
       "<svg height=\"332pt\" viewBox=\"0.00 0.00 788.69 332.00\" width=\"789pt\" xmlns=\"http://www.w3.org/2000/svg\" xmlns:xlink=\"http://www.w3.org/1999/xlink\">\n",
       "<g class=\"graph\" id=\"graph0\" transform=\"scale(1 1) rotate(0) translate(4 328)\">\n",
       "<title>G</title>\n",
       "<polygon fill=\"#ffffff\" points=\"-4,4 -4,-328 784.692,-328 784.692,4 -4,4\" stroke=\"transparent\"/>\n",
       "<!-- pH -->\n",
       "<g class=\"node\" id=\"node1\">\n",
       "<title>pH</title>\n",
       "<ellipse cx=\"481.3763\" cy=\"-234\" fill=\"none\" rx=\"27\" ry=\"18\" stroke=\"#000000\"/>\n",
       "<text fill=\"#000000\" font-family=\"Times,serif\" font-size=\"14.00\" text-anchor=\"middle\" x=\"481.3763\" y=\"-230.3\">pH</text>\n",
       "</g>\n",
       "<!-- chlorides -->\n",
       "<g class=\"node\" id=\"node2\">\n",
       "<title>chlorides</title>\n",
       "<ellipse cx=\"481.3763\" cy=\"-162\" fill=\"none\" rx=\"53.8905\" ry=\"18\" stroke=\"#000000\"/>\n",
       "<text fill=\"#000000\" font-family=\"Times,serif\" font-size=\"14.00\" text-anchor=\"middle\" x=\"481.3763\" y=\"-158.3\">chlorides</text>\n",
       "</g>\n",
       "<!-- pH&#45;&gt;chlorides -->\n",
       "<g class=\"edge\" id=\"edge1\">\n",
       "<title>pH-&gt;chlorides</title>\n",
       "<path d=\"M481.3763,-215.8314C481.3763,-208.131 481.3763,-198.9743 481.3763,-190.4166\" fill=\"none\" stroke=\"#000000\"/>\n",
       "<polygon fill=\"#000000\" points=\"484.8764,-190.4132 481.3763,-180.4133 477.8764,-190.4133 484.8764,-190.4132\" stroke=\"#000000\"/>\n",
       "</g>\n",
       "<!-- fixed acidity -->\n",
       "<g class=\"node\" id=\"node3\">\n",
       "<title>fixed acidity</title>\n",
       "<ellipse cx=\"341.3763\" cy=\"-162\" fill=\"none\" rx=\"68.4888\" ry=\"18\" stroke=\"#000000\"/>\n",
       "<text fill=\"#000000\" font-family=\"Times,serif\" font-size=\"14.00\" text-anchor=\"middle\" x=\"341.3763\" y=\"-158.3\">fixed acidity</text>\n",
       "</g>\n",
       "<!-- pH&#45;&gt;fixed acidity -->\n",
       "<g class=\"edge\" id=\"edge2\">\n",
       "<title>pH-&gt;fixed acidity</title>\n",
       "<path d=\"M459.8081,-222.9078C439.0412,-212.2277 407.1196,-195.8109 381.648,-182.7112\" fill=\"none\" stroke=\"#000000\"/>\n",
       "<polygon fill=\"#000000\" points=\"383.0817,-179.5128 372.5881,-178.0518 379.8803,-185.7378 383.0817,-179.5128\" stroke=\"#000000\"/>\n",
       "</g>\n",
       "<!-- total sulfur dioxide -->\n",
       "<g class=\"node\" id=\"node5\">\n",
       "<title>total sulfur dioxide</title>\n",
       "<ellipse cx=\"622.3763\" cy=\"-90\" fill=\"none\" rx=\"98.5829\" ry=\"18\" stroke=\"#000000\"/>\n",
       "<text fill=\"#000000\" font-family=\"Times,serif\" font-size=\"14.00\" text-anchor=\"middle\" x=\"622.3763\" y=\"-86.3\">total sulfur dioxide</text>\n",
       "</g>\n",
       "<!-- chlorides&#45;&gt;total sulfur dioxide -->\n",
       "<g class=\"edge\" id=\"edge9\">\n",
       "<title>chlorides-&gt;total sulfur dioxide</title>\n",
       "<path d=\"M510.9345,-146.9064C531.0203,-136.6499 557.8913,-122.9285 580.2146,-111.5293\" fill=\"none\" stroke=\"#000000\"/>\n",
       "<polygon fill=\"#000000\" points=\"581.8387,-114.63 589.153,-106.9651 578.6552,-108.3958 581.8387,-114.63\" stroke=\"#000000\"/>\n",
       "</g>\n",
       "<!-- volatile acidity -->\n",
       "<g class=\"node\" id=\"node9\">\n",
       "<title>volatile acidity</title>\n",
       "<ellipse cx=\"200.3763\" cy=\"-90\" fill=\"none\" rx=\"79.0865\" ry=\"18\" stroke=\"#000000\"/>\n",
       "<text fill=\"#000000\" font-family=\"Times,serif\" font-size=\"14.00\" text-anchor=\"middle\" x=\"200.3763\" y=\"-86.3\">volatile acidity</text>\n",
       "</g>\n",
       "<!-- chlorides&#45;&gt;volatile acidity -->\n",
       "<g class=\"edge\" id=\"edge8\">\n",
       "<title>chlorides-&gt;volatile acidity</title>\n",
       "<path d=\"M440.429,-150.073C433.0984,-148.0028 425.5205,-145.9048 418.3763,-144 367.1711,-130.3476 308.8898,-115.9709 265.4791,-105.487\" fill=\"none\" stroke=\"#000000\"/>\n",
       "<polygon fill=\"#000000\" points=\"266.1574,-102.0504 255.6157,-103.1102 264.5174,-108.8556 266.1574,-102.0504\" stroke=\"#000000\"/>\n",
       "</g>\n",
       "<!-- residual sugar -->\n",
       "<g class=\"node\" id=\"node4\">\n",
       "<title>residual sugar</title>\n",
       "<ellipse cx=\"621.3763\" cy=\"-306\" fill=\"none\" rx=\"77.1866\" ry=\"18\" stroke=\"#000000\"/>\n",
       "<text fill=\"#000000\" font-family=\"Times,serif\" font-size=\"14.00\" text-anchor=\"middle\" x=\"621.3763\" y=\"-302.3\">residual sugar</text>\n",
       "</g>\n",
       "<!-- residual sugar&#45;&gt;total sulfur dioxide -->\n",
       "<g class=\"edge\" id=\"edge3\">\n",
       "<title>residual sugar-&gt;total sulfur dioxide</title>\n",
       "<path d=\"M672.9741,-292.5452C708.0701,-282.2301 749.959,-267.2228 760.3763,-252 787.4841,-212.3873 787.4357,-183.6458 760.3763,-144 751.4385,-130.905 719.1199,-117.9024 688.0053,-107.9385\" fill=\"none\" stroke=\"#000000\"/>\n",
       "<polygon fill=\"#000000\" points=\"689.0035,-104.5836 678.4149,-104.9471 686.9191,-111.2661 689.0035,-104.5836\" stroke=\"#000000\"/>\n",
       "</g>\n",
       "<!-- density -->\n",
       "<g class=\"node\" id=\"node6\">\n",
       "<title>density</title>\n",
       "<ellipse cx=\"391.3763\" cy=\"-234\" fill=\"none\" rx=\"44.6926\" ry=\"18\" stroke=\"#000000\"/>\n",
       "<text fill=\"#000000\" font-family=\"Times,serif\" font-size=\"14.00\" text-anchor=\"middle\" x=\"391.3763\" y=\"-230.3\">density</text>\n",
       "</g>\n",
       "<!-- residual sugar&#45;&gt;density -->\n",
       "<g class=\"edge\" id=\"edge4\">\n",
       "<title>residual sugar-&gt;density</title>\n",
       "<path d=\"M573.8455,-291.7545C538.3736,-281.0413 488.7541,-265.882 445.3763,-252 442.2233,-250.991 438.9708,-249.9378 435.6988,-248.8693\" fill=\"none\" stroke=\"#000000\"/>\n",
       "<polygon fill=\"#000000\" points=\"436.4975,-245.4475 425.9045,-245.6466 434.3096,-252.0968 436.4975,-245.4475\" stroke=\"#000000\"/>\n",
       "</g>\n",
       "<!-- quality -->\n",
       "<g class=\"node\" id=\"node7\">\n",
       "<title>quality</title>\n",
       "<ellipse cx=\"74.3763\" cy=\"-18\" fill=\"none\" rx=\"42.7926\" ry=\"18\" stroke=\"#000000\"/>\n",
       "<text fill=\"#000000\" font-family=\"Times,serif\" font-size=\"14.00\" text-anchor=\"middle\" x=\"74.3763\" y=\"-14.3\">quality</text>\n",
       "</g>\n",
       "<!-- total sulfur dioxide&#45;&gt;quality -->\n",
       "<g class=\"edge\" id=\"edge5\">\n",
       "<title>total sulfur dioxide-&gt;quality</title>\n",
       "<path d=\"M542.1055,-79.4535C427.6571,-64.4165 220.8839,-37.2492 125.3277,-24.6943\" fill=\"none\" stroke=\"#000000\"/>\n",
       "<polygon fill=\"#000000\" points=\"125.7058,-21.214 115.3351,-23.3815 124.7939,-28.1544 125.7058,-21.214\" stroke=\"#000000\"/>\n",
       "</g>\n",
       "<!-- density&#45;&gt;chlorides -->\n",
       "<g class=\"edge\" id=\"edge10\">\n",
       "<title>density-&gt;chlorides</title>\n",
       "<path d=\"M411.7987,-217.6621C423.8243,-208.0415 439.2281,-195.7186 452.4837,-185.1141\" fill=\"none\" stroke=\"#000000\"/>\n",
       "<polygon fill=\"#000000\" points=\"454.7879,-187.7529 460.4101,-178.7729 450.415,-182.2869 454.7879,-187.7529\" stroke=\"#000000\"/>\n",
       "</g>\n",
       "<!-- density&#45;&gt;fixed acidity -->\n",
       "<g class=\"edge\" id=\"edge11\">\n",
       "<title>density-&gt;fixed acidity</title>\n",
       "<path d=\"M379.2727,-216.5708C373.3424,-208.0312 366.0789,-197.5719 359.5033,-188.1029\" fill=\"none\" stroke=\"#000000\"/>\n",
       "<polygon fill=\"#000000\" points=\"362.2946,-185.9862 353.7158,-179.7689 356.545,-189.979 362.2946,-185.9862\" stroke=\"#000000\"/>\n",
       "</g>\n",
       "<!-- sulphates -->\n",
       "<g class=\"node\" id=\"node8\">\n",
       "<title>sulphates</title>\n",
       "<ellipse cx=\"74.3763\" cy=\"-162\" fill=\"none\" rx=\"55.7903\" ry=\"18\" stroke=\"#000000\"/>\n",
       "<text fill=\"#000000\" font-family=\"Times,serif\" font-size=\"14.00\" text-anchor=\"middle\" x=\"74.3763\" y=\"-158.3\">sulphates</text>\n",
       "</g>\n",
       "<!-- sulphates&#45;&gt;quality -->\n",
       "<g class=\"edge\" id=\"edge6\">\n",
       "<title>sulphates-&gt;quality</title>\n",
       "<path d=\"M74.3763,-143.7623C74.3763,-119.201 74.3763,-75.2474 74.3763,-46.3541\" fill=\"none\" stroke=\"#000000\"/>\n",
       "<polygon fill=\"#000000\" points=\"77.8764,-46.0896 74.3763,-36.0896 70.8764,-46.0897 77.8764,-46.0896\" stroke=\"#000000\"/>\n",
       "</g>\n",
       "<!-- sulphates&#45;&gt;volatile acidity -->\n",
       "<g class=\"edge\" id=\"edge7\">\n",
       "<title>sulphates-&gt;volatile acidity</title>\n",
       "<path d=\"M102.0275,-146.1993C119.6631,-136.1218 142.7627,-122.922 162.1432,-111.8475\" fill=\"none\" stroke=\"#000000\"/>\n",
       "<polygon fill=\"#000000\" points=\"164.0889,-114.7668 171.0348,-106.7665 160.6159,-108.6891 164.0889,-114.7668\" stroke=\"#000000\"/>\n",
       "</g>\n",
       "<!-- citric acid -->\n",
       "<g class=\"node\" id=\"node10\">\n",
       "<title>citric acid</title>\n",
       "<ellipse cx=\"232.3763\" cy=\"-234\" fill=\"none\" rx=\"57.6901\" ry=\"18\" stroke=\"#000000\"/>\n",
       "<text fill=\"#000000\" font-family=\"Times,serif\" font-size=\"14.00\" text-anchor=\"middle\" x=\"232.3763\" y=\"-230.3\">citric acid</text>\n",
       "</g>\n",
       "<!-- citric acid&#45;&gt;fixed acidity -->\n",
       "<g class=\"edge\" id=\"edge13\">\n",
       "<title>citric acid-&gt;fixed acidity</title>\n",
       "<path d=\"M257.11,-217.6621C271.9493,-207.86 291.0356,-195.2526 307.29,-184.5157\" fill=\"none\" stroke=\"#000000\"/>\n",
       "<polygon fill=\"#000000\" points=\"309.569,-187.205 315.9839,-178.7729 305.7109,-181.3642 309.569,-187.205\" stroke=\"#000000\"/>\n",
       "</g>\n",
       "<!-- citric acid&#45;&gt;volatile acidity -->\n",
       "<g class=\"edge\" id=\"edge12\">\n",
       "<title>citric acid-&gt;volatile acidity</title>\n",
       "<path d=\"M228.3234,-215.7623C222.8413,-191.0928 213.0118,-146.8598 206.5925,-117.9731\" fill=\"none\" stroke=\"#000000\"/>\n",
       "<polygon fill=\"#000000\" points=\"209.9822,-117.0922 204.3962,-108.0896 203.1489,-118.6108 209.9822,-117.0922\" stroke=\"#000000\"/>\n",
       "</g>\n",
       "<!-- alcohol -->\n",
       "<g class=\"node\" id=\"node11\">\n",
       "<title>alcohol</title>\n",
       "<ellipse cx=\"318.3763\" cy=\"-306\" fill=\"none\" rx=\"44.393\" ry=\"18\" stroke=\"#000000\"/>\n",
       "<text fill=\"#000000\" font-family=\"Times,serif\" font-size=\"14.00\" text-anchor=\"middle\" x=\"318.3763\" y=\"-302.3\">alcohol</text>\n",
       "</g>\n",
       "<!-- alcohol&#45;&gt;fixed acidity -->\n",
       "<g class=\"edge\" id=\"edge18\">\n",
       "<title>alcohol-&gt;fixed acidity</title>\n",
       "<path d=\"M321.2892,-287.7623C325.2295,-263.0928 332.2945,-218.8598 336.9083,-189.9731\" fill=\"none\" stroke=\"#000000\"/>\n",
       "<polygon fill=\"#000000\" points=\"340.3658,-190.5165 338.4869,-180.0896 333.4534,-189.4124 340.3658,-190.5165\" stroke=\"#000000\"/>\n",
       "</g>\n",
       "<!-- alcohol&#45;&gt;total sulfur dioxide -->\n",
       "<g class=\"edge\" id=\"edge16\">\n",
       "<title>alcohol-&gt;total sulfur dioxide</title>\n",
       "<path d=\"M361.4097,-301.8468C464.0028,-291.7418 715.3661,-265.7001 727.3763,-252 766.7093,-207.1325 700.5584,-146.3245 656.6124,-113.4445\" fill=\"none\" stroke=\"#000000\"/>\n",
       "<polygon fill=\"#000000\" points=\"658.5616,-110.5338 648.4264,-107.4471 654.4246,-116.1805 658.5616,-110.5338\" stroke=\"#000000\"/>\n",
       "</g>\n",
       "<!-- alcohol&#45;&gt;density -->\n",
       "<g class=\"edge\" id=\"edge17\">\n",
       "<title>alcohol-&gt;density</title>\n",
       "<path d=\"M335.3074,-289.3008C344.7296,-280.0077 356.6218,-268.2784 367.0269,-258.0158\" fill=\"none\" stroke=\"#000000\"/>\n",
       "<polygon fill=\"#000000\" points=\"369.6221,-260.3721 374.2841,-250.8581 364.7066,-255.3883 369.6221,-260.3721\" stroke=\"#000000\"/>\n",
       "</g>\n",
       "<!-- alcohol&#45;&gt;quality -->\n",
       "<g class=\"edge\" id=\"edge14\">\n",
       "<title>alcohol-&gt;quality</title>\n",
       "<path d=\"M280.5748,-296.543C204.7913,-276.6996 38.9878,-228.5269 9.3763,-180 -18.2726,-134.6895 22.3422,-75.5443 50.7516,-42.7074\" fill=\"none\" stroke=\"#000000\"/>\n",
       "<polygon fill=\"#000000\" points=\"53.6237,-44.7452 57.6624,-34.9503 48.397,-40.0888 53.6237,-44.7452\" stroke=\"#000000\"/>\n",
       "</g>\n",
       "<!-- alcohol&#45;&gt;volatile acidity -->\n",
       "<g class=\"edge\" id=\"edge15\">\n",
       "<title>alcohol-&gt;volatile acidity</title>\n",
       "<path d=\"M279.2103,-297.5723C238.4779,-287.9198 178.7984,-270.9708 165.3763,-252 136.5137,-211.2057 162.9204,-151.2036 182.8899,-116.83\" fill=\"none\" stroke=\"#000000\"/>\n",
       "<polygon fill=\"#000000\" points=\"186.1367,-118.2233 188.3004,-107.8518 180.1411,-114.6103 186.1367,-118.2233\" stroke=\"#000000\"/>\n",
       "</g>\n",
       "<!-- free sulfur dioxide -->\n",
       "<g class=\"node\" id=\"node12\">\n",
       "<title>free sulfur dioxide</title>\n",
       "<ellipse cx=\"622.3763\" cy=\"-234\" fill=\"none\" rx=\"96.3833\" ry=\"18\" stroke=\"#000000\"/>\n",
       "<text fill=\"#000000\" font-family=\"Times,serif\" font-size=\"14.00\" text-anchor=\"middle\" x=\"622.3763\" y=\"-230.3\">free sulfur dioxide</text>\n",
       "</g>\n",
       "<!-- free sulfur dioxide&#45;&gt;fixed acidity -->\n",
       "<g class=\"edge\" id=\"edge20\">\n",
       "<title>free sulfur dioxide-&gt;fixed acidity</title>\n",
       "<path d=\"M565.5117,-219.4297C517.5012,-207.1281 449.0053,-189.5775 400.3948,-177.1222\" fill=\"none\" stroke=\"#000000\"/>\n",
       "<polygon fill=\"#000000\" points=\"401.2001,-173.7155 390.6443,-174.6238 399.4626,-180.4965 401.2001,-173.7155\" stroke=\"#000000\"/>\n",
       "</g>\n",
       "<!-- free sulfur dioxide&#45;&gt;total sulfur dioxide -->\n",
       "<g class=\"edge\" id=\"edge19\">\n",
       "<title>free sulfur dioxide-&gt;total sulfur dioxide</title>\n",
       "<path d=\"M622.3763,-215.7623C622.3763,-191.201 622.3763,-147.2474 622.3763,-118.3541\" fill=\"none\" stroke=\"#000000\"/>\n",
       "<polygon fill=\"#000000\" points=\"625.8764,-118.0896 622.3763,-108.0896 618.8764,-118.0897 625.8764,-118.0896\" stroke=\"#000000\"/>\n",
       "</g>\n",
       "</g>\n",
       "</svg>"
      ],
      "text/plain": [
       "<IPython.core.display.HTML object>"
      ]
     },
     "metadata": {},
     "output_type": "display_data"
    }
   ],
   "source": [
    "learner = otagr.ContinuousPC(X, conditionning, alpha)\n",
    "learner.setVerbosity(True)\n",
    "learner.setOptimalPolicy(True)\n",
    "#skel=learner.inferSkeleton()\n",
    "#skel\n",
    "dag = learner.learnDAG()\n",
    "gnb.showDot(dag.toDot(),size=\"20\")"
   ]
  },
  {
   "cell_type": "code",
   "execution_count": 6,
   "metadata": {
    "ExecuteTime": {
     "end_time": "2019-06-20T16:20:33.009910Z",
     "start_time": "2019-06-20T16:20:32.986268Z"
    }
   },
   "outputs": [],
   "source": [
    "t=otagr.ContinuousTTest(X)\n",
    "t.setAlpha(alpha)\n",
    "\n",
    "def petiteDemo(Y,Z,X):\n",
    "    \"\"\"\n",
    "    Print some results just for fun\n",
    "    \"\"\"\n",
    "    _,p,b=t.isIndep(Y,Z,[])\n",
    "    if b:\n",
    "        print(f\"{Y} et {Z} sont indépendants ({100*p:5.3}%)\")\n",
    "    else:\n",
    "        print(f\"{Y} et {Z} ne sont pas indépendants ({100*p:5.3}%)\")\n",
    "    print(\" alors que\")\n",
    "    \n",
    "    _,p,b=t.isIndep(Y,Z,X)\n",
    "    if t.isIndep(Y,Z,X)[2]:\n",
    "        print(f\"{Y} et {Z} sont indépendants sachant {X} ({100*p:5.3}%)\")\n",
    "    else:\n",
    "        print(f\"{Y} et {Z} ne sont pas indépendants sachant {X} ({100*p:5.3}%)\")"
   ]
  },
  {
   "cell_type": "code",
   "execution_count": null,
   "metadata": {
    "ExecuteTime": {
     "end_time": "2019-06-20T16:05:25.422643Z",
     "start_time": "2019-06-20T16:05:25.415268Z"
    }
   },
   "outputs": [],
   "source": [
    "print(X.getDescription())"
   ]
  },
  {
   "cell_type": "code",
   "execution_count": null,
   "metadata": {
    "ExecuteTime": {
     "end_time": "2019-06-20T16:05:26.149143Z",
     "start_time": "2019-06-20T16:05:25.593521Z"
    }
   },
   "outputs": [],
   "source": [
    "petiteDemo(2,4,[3])"
   ]
  },
  {
   "cell_type": "code",
   "execution_count": null,
   "metadata": {
    "ExecuteTime": {
     "end_time": "2019-06-20T16:05:26.676255Z",
     "start_time": "2019-06-20T16:05:26.151317Z"
    }
   },
   "outputs": [],
   "source": [
    "petiteDemo(1,8,[2])"
   ]
  },
  {
   "cell_type": "code",
   "execution_count": 7,
   "metadata": {
    "ExecuteTime": {
     "end_time": "2019-06-20T16:20:35.994692Z",
     "start_time": "2019-06-20T16:20:35.491368Z"
    }
   },
   "outputs": [
    {
     "name": "stdout",
     "output_type": "stream",
     "text": [
      "2 et 11 ne sont pas indépendants (  0.0%)\n",
      " alors que\n",
      "2 et 11 ne sont pas indépendants sachant [7] (  0.0%)\n"
     ]
    }
   ],
   "source": [
    "petiteDemo(2,11,[7])"
   ]
  },
  {
   "cell_type": "code",
   "execution_count": null,
   "metadata": {},
   "outputs": [],
   "source": []
  }
 ],
 "metadata": {
  "hide_input": false,
  "kernelspec": {
   "display_name": "Python 3",
   "language": "python",
   "name": "python3"
  },
  "language_info": {
   "codemirror_mode": {
    "name": "ipython",
    "version": 3
   },
   "file_extension": ".py",
   "mimetype": "text/x-python",
   "name": "python",
   "nbconvert_exporter": "python",
   "pygments_lexer": "ipython3",
   "version": "3.7.3"
  }
 },
 "nbformat": 4,
 "nbformat_minor": 2
}
