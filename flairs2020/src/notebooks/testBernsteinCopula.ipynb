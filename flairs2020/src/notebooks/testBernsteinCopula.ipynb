{
 "cells": [
  {
   "cell_type": "code",
   "execution_count": 42,
   "metadata": {},
   "outputs": [],
   "source": [
    "import matplotlib.pyplot as plt\n",
    "import openturns as ot\n",
    "import otagrum as oa\n",
    "import numpy as np"
   ]
  },
  {
   "cell_type": "code",
   "execution_count": 43,
   "metadata": {},
   "outputs": [],
   "source": [
    "sample = ot.Normal(1).getSample(10)"
   ]
  },
  {
   "cell_type": "code",
   "execution_count": 44,
   "metadata": {},
   "outputs": [
    {
     "name": "stdout",
     "output_type": "stream",
     "text": [
      "    [ X0        ]\n",
      "0 : [ -2.4067   ]\n",
      "1 : [  0.662936 ]\n",
      "2 : [ -0.65616  ]\n",
      "3 : [ -0.751611 ]\n",
      "4 : [  0.438177 ]\n",
      "5 : [ -0.455335 ]\n",
      "6 : [  1.86038  ]\n",
      "7 : [  0.219721 ]\n",
      "8 : [  1.72546  ]\n",
      "9 : [ -0.543405 ]\n",
      "Sample size:  10\n",
      "Sample dimension:  1\n"
     ]
    }
   ],
   "source": [
    "print(sample)\n",
    "print(\"Sample size: \", sample.getSize())\n",
    "print(\"Sample dimension: \", sample.getDimension())"
   ]
  },
  {
   "cell_type": "code",
   "execution_count": 45,
   "metadata": {},
   "outputs": [],
   "source": [
    "ttest = oa.ContinuousTTest(sample, sample.getSize())\n",
    "K = ttest.GetK(sample.getSize(), sample.getDimension())"
   ]
  },
  {
   "cell_type": "code",
   "execution_count": 46,
   "metadata": {},
   "outputs": [
    {
     "name": "stdout",
     "output_type": "stream",
     "text": [
      "3\n"
     ]
    }
   ],
   "source": [
    "print(K)"
   ]
  },
  {
   "cell_type": "code",
   "execution_count": 48,
   "metadata": {},
   "outputs": [
    {
     "data": {
      "image/png": "[encoded data removed]",
      "text/plain": [
       "<Figure size 432x288 with 1 Axes>"
      ]
     },
     "metadata": {
      "needs_background": "light"
     },
     "output_type": "display_data"
    }
   ],
   "source": [
    "plt.scatter(np.arange(len(sample)), sample)\n",
    "plt.show()"
   ]
  },
  {
   "cell_type": "code",
   "execution_count": null,
   "metadata": {},
   "outputs": [],
   "source": [
    "copula = ot.EmpiricalBernsteinCopula()"
   ]
  }
 ],
 "metadata": {
  "kernelspec": {
   "display_name": "Python 3",
   "language": "python",
   "name": "python3"
  },
  "language_info": {
   "codemirror_mode": {
    "name": "ipython",
    "version": 3
   },
   "file_extension": ".py",
   "mimetype": "text/x-python",
   "name": "python",
   "nbconvert_exporter": "python",
   "pygments_lexer": "ipython3",
   "version": "3.7.4"
  }
 },
 "nbformat": 4,
 "nbformat_minor": 2
}
