{
 "cells": [
  {
   "cell_type": "code",
   "execution_count": 1,
   "metadata": {
    "ExecuteTime": {
     "end_time": "2019-06-20T16:18:26.206680Z",
     "start_time": "2019-06-20T16:18:25.750754Z"
    }
   },
   "outputs": [],
   "source": [
    "import pyAgrum as gum\n",
    "import pyAgrum.lib.notebook as gnb\n",
    "\n",
    "import openturns as ot\n",
    "\n",
    "import otagrum as otagr"
   ]
  },
  {
   "cell_type": "code",
   "execution_count": 2,
   "metadata": {
    "ExecuteTime": {
     "end_time": "2019-06-20T16:23:44.199686Z",
     "start_time": "2019-06-20T16:23:44.195533Z"
    }
   },
   "outputs": [],
   "source": [
    "folder=\"data/winequality/\"\n",
    "#with open (f\"{folder}/struct.txt\", \"r\") as ff:\n",
    "#    struct=ff.readlines()[0].strip()\n",
    "#gum.fastBN(struct)"
   ]
  },
  {
   "cell_type": "code",
   "execution_count": 3,
   "metadata": {
    "ExecuteTime": {
     "end_time": "2019-06-20T16:24:09.820528Z",
     "start_time": "2019-06-20T16:24:09.806236Z"
    }
   },
   "outputs": [],
   "source": [
    "X = ot.Sample.ImportFromCSVFile(f\"{folder}/winequality-red.csv\")\n",
    "alpha=0.1\n",
    "conditionning = 3"
   ]
  },
  {
   "cell_type": "code",
   "execution_count": 4,
   "metadata": {
    "ExecuteTime": {
     "end_time": "2019-06-20T16:24:41.710267Z",
     "start_time": "2019-06-20T16:24:35.357059Z"
    }
   },
   "outputs": [
    {
     "data": {
      "image/svg+xml": [
       "<svg height=\"260pt\" viewBox=\"0.00 0.00 594.52 260.00\" width=\"595pt\" xmlns=\"http://www.w3.org/2000/svg\" xmlns:xlink=\"http://www.w3.org/1999/xlink\">\n",
       "<g class=\"graph\" id=\"graph0\" transform=\"scale(1 1) rotate(0) translate(4 256)\">\n",
       "<title>G</title>\n",
       "<polygon fill=\"#ffffff\" points=\"-4,4 -4,-256 590.521,-256 590.521,4 -4,4\" stroke=\"transparent\"/>\n",
       "<!-- pH -->\n",
       "<g class=\"node\" id=\"node1\">\n",
       "<title>pH</title>\n",
       "<ellipse cx=\"305.3249\" cy=\"-162\" fill=\"none\" rx=\"27\" ry=\"18\" stroke=\"#000000\"/>\n",
       "<text fill=\"#000000\" font-family=\"Times,serif\" font-size=\"14.00\" text-anchor=\"middle\" x=\"305.3249\" y=\"-158.3\">pH</text>\n",
       "</g>\n",
       "<!-- sulphates -->\n",
       "<g class=\"node\" id=\"node2\">\n",
       "<title>sulphates</title>\n",
       "<ellipse cx=\"305.3249\" cy=\"-90\" fill=\"none\" rx=\"55.7903\" ry=\"18\" stroke=\"#000000\"/>\n",
       "<text fill=\"#000000\" font-family=\"Times,serif\" font-size=\"14.00\" text-anchor=\"middle\" x=\"305.3249\" y=\"-86.3\">sulphates</text>\n",
       "</g>\n",
       "<!-- pH&#45;&gt;sulphates -->\n",
       "<g class=\"edge\" id=\"edge1\">\n",
       "<title>pH-&gt;sulphates</title>\n",
       "<path d=\"M305.3249,-143.8314C305.3249,-136.131 305.3249,-126.9743 305.3249,-118.4166\" fill=\"none\" stroke=\"#000000\"/>\n",
       "<polygon fill=\"#000000\" points=\"308.825,-118.4132 305.3249,-108.4133 301.825,-118.4133 308.825,-118.4132\" stroke=\"#000000\"/>\n",
       "</g>\n",
       "<!-- chlorides -->\n",
       "<g class=\"node\" id=\"node3\">\n",
       "<title>chlorides</title>\n",
       "<ellipse cx=\"433.3249\" cy=\"-90\" fill=\"none\" rx=\"53.8905\" ry=\"18\" stroke=\"#000000\"/>\n",
       "<text fill=\"#000000\" font-family=\"Times,serif\" font-size=\"14.00\" text-anchor=\"middle\" x=\"433.3249\" y=\"-86.3\">chlorides</text>\n",
       "</g>\n",
       "<!-- pH&#45;&gt;chlorides -->\n",
       "<g class=\"edge\" id=\"edge2\">\n",
       "<title>pH-&gt;chlorides</title>\n",
       "<path d=\"M326.1752,-150.2717C345.3121,-139.5072 374.0835,-123.3233 396.9953,-110.4354\" fill=\"none\" stroke=\"#000000\"/>\n",
       "<polygon fill=\"#000000\" points=\"398.7737,-113.4508 405.7736,-105.4976 395.3419,-107.3498 398.7737,-113.4508\" stroke=\"#000000\"/>\n",
       "</g>\n",
       "<!-- fixed acidity -->\n",
       "<g class=\"node\" id=\"node6\">\n",
       "<title>fixed acidity</title>\n",
       "<ellipse cx=\"139.3249\" cy=\"-18\" fill=\"none\" rx=\"68.4888\" ry=\"18\" stroke=\"#000000\"/>\n",
       "<text fill=\"#000000\" font-family=\"Times,serif\" font-size=\"14.00\" text-anchor=\"middle\" x=\"139.3249\" y=\"-14.3\">fixed acidity</text>\n",
       "</g>\n",
       "<!-- sulphates&#45;&gt;fixed acidity -->\n",
       "<g class=\"edge\" id=\"edge13\">\n",
       "<title>sulphates-&gt;fixed acidity</title>\n",
       "<path d=\"M271.7323,-75.4297C246.5628,-64.5128 211.8627,-49.4622 184.2999,-37.5072\" fill=\"none\" stroke=\"#000000\"/>\n",
       "<polygon fill=\"#000000\" points=\"185.4425,-34.1878 174.8756,-33.4196 182.6571,-40.6098 185.4425,-34.1878\" stroke=\"#000000\"/>\n",
       "</g>\n",
       "<!-- quality -->\n",
       "<g class=\"node\" id=\"node8\">\n",
       "<title>quality</title>\n",
       "<ellipse cx=\"369.3249\" cy=\"-18\" fill=\"none\" rx=\"42.7926\" ry=\"18\" stroke=\"#000000\"/>\n",
       "<text fill=\"#000000\" font-family=\"Times,serif\" font-size=\"14.00\" text-anchor=\"middle\" x=\"369.3249\" y=\"-14.3\">quality</text>\n",
       "</g>\n",
       "<!-- sulphates&#45;&gt;quality -->\n",
       "<g class=\"edge\" id=\"edge12\">\n",
       "<title>sulphates-&gt;quality</title>\n",
       "<path d=\"M320.8175,-72.5708C328.7574,-63.6385 338.5643,-52.6056 347.2779,-42.8029\" fill=\"none\" stroke=\"#000000\"/>\n",
       "<polygon fill=\"#000000\" points=\"349.9472,-45.0681 353.9749,-35.2687 344.7153,-40.4175 349.9472,-45.0681\" stroke=\"#000000\"/>\n",
       "</g>\n",
       "<!-- chlorides&#45;&gt;quality -->\n",
       "<g class=\"edge\" id=\"edge14\">\n",
       "<title>chlorides-&gt;quality</title>\n",
       "<path d=\"M417.8323,-72.5708C409.8924,-63.6385 400.0855,-52.6056 391.3719,-42.8029\" fill=\"none\" stroke=\"#000000\"/>\n",
       "<polygon fill=\"#000000\" points=\"393.9344,-40.4175 384.6748,-35.2687 388.7026,-45.0681 393.9344,-40.4175\" stroke=\"#000000\"/>\n",
       "</g>\n",
       "<!-- residual sugar -->\n",
       "<g class=\"node\" id=\"node4\">\n",
       "<title>residual sugar</title>\n",
       "<ellipse cx=\"112.3249\" cy=\"-234\" fill=\"none\" rx=\"77.1866\" ry=\"18\" stroke=\"#000000\"/>\n",
       "<text fill=\"#000000\" font-family=\"Times,serif\" font-size=\"14.00\" text-anchor=\"middle\" x=\"112.3249\" y=\"-230.3\">residual sugar</text>\n",
       "</g>\n",
       "<!-- total sulfur dioxide -->\n",
       "<g class=\"node\" id=\"node5\">\n",
       "<title>total sulfur dioxide</title>\n",
       "<ellipse cx=\"112.3249\" cy=\"-162\" fill=\"none\" rx=\"98.5829\" ry=\"18\" stroke=\"#000000\"/>\n",
       "<text fill=\"#000000\" font-family=\"Times,serif\" font-size=\"14.00\" text-anchor=\"middle\" x=\"112.3249\" y=\"-158.3\">total sulfur dioxide</text>\n",
       "</g>\n",
       "<!-- residual sugar&#45;&gt;total sulfur dioxide -->\n",
       "<g class=\"edge\" id=\"edge3\">\n",
       "<title>residual sugar-&gt;total sulfur dioxide</title>\n",
       "<path d=\"M112.3249,-215.8314C112.3249,-208.131 112.3249,-198.9743 112.3249,-190.4166\" fill=\"none\" stroke=\"#000000\"/>\n",
       "<polygon fill=\"#000000\" points=\"115.825,-190.4132 112.3249,-180.4133 108.825,-190.4133 115.825,-190.4132\" stroke=\"#000000\"/>\n",
       "</g>\n",
       "<!-- residual sugar&#45;&gt;fixed acidity -->\n",
       "<g class=\"edge\" id=\"edge4\">\n",
       "<title>residual sugar-&gt;fixed acidity</title>\n",
       "<path d=\"M59.4042,-220.7033C38.4873,-212.5749 16.5582,-199.7939 4.3249,-180 -4.0868,-166.3896 2.579,-159.9045 4.3249,-144 7.9018,-111.4151 -.3315,-97.4535 20.3249,-72 35.0159,-53.8972 57.0874,-41.6267 78.2469,-33.423\" fill=\"none\" stroke=\"#000000\"/>\n",
       "<polygon fill=\"#000000\" points=\"79.6658,-36.6316 87.8748,-29.9336 77.2806,-30.0505 79.6658,-36.6316\" stroke=\"#000000\"/>\n",
       "</g>\n",
       "<!-- citric acid -->\n",
       "<g class=\"node\" id=\"node7\">\n",
       "<title>citric acid</title>\n",
       "<ellipse cx=\"429.3249\" cy=\"-162\" fill=\"none\" rx=\"57.6901\" ry=\"18\" stroke=\"#000000\"/>\n",
       "<text fill=\"#000000\" font-family=\"Times,serif\" font-size=\"14.00\" text-anchor=\"middle\" x=\"429.3249\" y=\"-158.3\">citric acid</text>\n",
       "</g>\n",
       "<!-- residual sugar&#45;&gt;citric acid -->\n",
       "<g class=\"edge\" id=\"edge5\">\n",
       "<title>residual sugar-&gt;citric acid</title>\n",
       "<path d=\"M167.9048,-221.3762C225.3605,-208.3263 314.6047,-188.0563 372.5107,-174.9042\" fill=\"none\" stroke=\"#000000\"/>\n",
       "<polygon fill=\"#000000\" points=\"373.612,-178.2433 382.5884,-172.6152 372.0615,-171.4171 373.612,-178.2433\" stroke=\"#000000\"/>\n",
       "</g>\n",
       "<!-- total sulfur dioxide&#45;&gt;quality -->\n",
       "<g class=\"edge\" id=\"edge6\">\n",
       "<title>total sulfur dioxide-&gt;quality</title>\n",
       "<path d=\"M71.4121,-145.4489C55.6096,-136.798 39.219,-124.5066 30.3249,-108 22.7353,-93.9146 19.9391,-84.1711 30.3249,-72 39.6116,-61.1169 225.7525,-36.1717 318.1699,-24.3881\" fill=\"none\" stroke=\"#000000\"/>\n",
       "<polygon fill=\"#000000\" points=\"318.6748,-27.8522 328.154,-23.1199 317.7926,-20.908 318.6748,-27.8522\" stroke=\"#000000\"/>\n",
       "</g>\n",
       "<!-- free sulfur dioxide -->\n",
       "<g class=\"node\" id=\"node9\">\n",
       "<title>free sulfur dioxide</title>\n",
       "<ellipse cx=\"135.3249\" cy=\"-90\" fill=\"none\" rx=\"96.3833\" ry=\"18\" stroke=\"#000000\"/>\n",
       "<text fill=\"#000000\" font-family=\"Times,serif\" font-size=\"14.00\" text-anchor=\"middle\" x=\"135.3249\" y=\"-86.3\">free sulfur dioxide</text>\n",
       "</g>\n",
       "<!-- total sulfur dioxide&#45;&gt;free sulfur dioxide -->\n",
       "<g class=\"edge\" id=\"edge7\">\n",
       "<title>total sulfur dioxide-&gt;free sulfur dioxide</title>\n",
       "<path d=\"M118.1288,-143.8314C120.6156,-136.0463 123.578,-126.7729 126.3374,-118.1347\" fill=\"none\" stroke=\"#000000\"/>\n",
       "<polygon fill=\"#000000\" points=\"129.7339,-119.0041 129.4429,-108.4133 123.0658,-116.874 129.7339,-119.0041\" stroke=\"#000000\"/>\n",
       "</g>\n",
       "<!-- citric acid&#45;&gt;chlorides -->\n",
       "<g class=\"edge\" id=\"edge16\">\n",
       "<title>citric acid-&gt;chlorides</title>\n",
       "<path d=\"M430.3343,-143.8314C430.7621,-136.131 431.2708,-126.9743 431.7462,-118.4166\" fill=\"none\" stroke=\"#000000\"/>\n",
       "<polygon fill=\"#000000\" points=\"435.2417,-118.592 432.3019,-108.4133 428.2525,-118.2037 435.2417,-118.592\" stroke=\"#000000\"/>\n",
       "</g>\n",
       "<!-- volatile acidity -->\n",
       "<g class=\"node\" id=\"node10\">\n",
       "<title>volatile acidity</title>\n",
       "<ellipse cx=\"293.3249\" cy=\"-234\" fill=\"none\" rx=\"79.0865\" ry=\"18\" stroke=\"#000000\"/>\n",
       "<text fill=\"#000000\" font-family=\"Times,serif\" font-size=\"14.00\" text-anchor=\"middle\" x=\"293.3249\" y=\"-230.3\">volatile acidity</text>\n",
       "</g>\n",
       "<!-- volatile acidity&#45;&gt;pH -->\n",
       "<g class=\"edge\" id=\"edge9\">\n",
       "<title>volatile acidity-&gt;pH</title>\n",
       "<path d=\"M296.353,-215.8314C297.6561,-208.0125 299.2095,-198.6923 300.6545,-190.0221\" fill=\"none\" stroke=\"#000000\"/>\n",
       "<polygon fill=\"#000000\" points=\"304.1476,-190.3528 302.3393,-179.9134 297.2429,-189.2019 304.1476,-190.3528\" stroke=\"#000000\"/>\n",
       "</g>\n",
       "<!-- volatile acidity&#45;&gt;citric acid -->\n",
       "<g class=\"edge\" id=\"edge11\">\n",
       "<title>volatile acidity-&gt;citric acid</title>\n",
       "<path d=\"M324.8679,-217.3008C344.5536,-206.8789 370.0268,-193.3931 390.8896,-182.3481\" fill=\"none\" stroke=\"#000000\"/>\n",
       "<polygon fill=\"#000000\" points=\"392.6147,-185.3951 399.8149,-177.6229 389.3394,-179.2086 392.6147,-185.3951\" stroke=\"#000000\"/>\n",
       "</g>\n",
       "<!-- volatile acidity&#45;&gt;quality -->\n",
       "<g class=\"edge\" id=\"edge8\">\n",
       "<title>volatile acidity-&gt;quality</title>\n",
       "<path d=\"M352.7466,-222.0178C409.3939,-209.9953 487.3786,-191.6373 496.3249,-180 525.5799,-141.9455 522.8056,-112.0346 496.3249,-72 479.432,-46.4607 447.7531,-32.9629 420.2619,-25.8488\" fill=\"none\" stroke=\"#000000\"/>\n",
       "<polygon fill=\"#000000\" points=\"420.8953,-22.4021 410.3582,-23.5062 419.284,-29.2142 420.8953,-22.4021\" stroke=\"#000000\"/>\n",
       "</g>\n",
       "<!-- volatile acidity&#45;&gt;free sulfur dioxide -->\n",
       "<g class=\"edge\" id=\"edge10\">\n",
       "<title>volatile acidity-&gt;free sulfur dioxide</title>\n",
       "<path d=\"M281.3636,-215.9865C267.9931,-196.7091 244.9635,-165.9451 220.3249,-144 207.0267,-132.1556 190.8542,-121.1877 176.1999,-112.2739\" fill=\"none\" stroke=\"#000000\"/>\n",
       "<polygon fill=\"#000000\" points=\"177.6971,-109.0926 167.311,-106.9998 174.1251,-115.1127 177.6971,-109.0926\" stroke=\"#000000\"/>\n",
       "</g>\n",
       "<!-- density -->\n",
       "<g class=\"node\" id=\"node11\">\n",
       "<title>density</title>\n",
       "<ellipse cx=\"435.3249\" cy=\"-234\" fill=\"none\" rx=\"44.6926\" ry=\"18\" stroke=\"#000000\"/>\n",
       "<text fill=\"#000000\" font-family=\"Times,serif\" font-size=\"14.00\" text-anchor=\"middle\" x=\"435.3249\" y=\"-230.3\">density</text>\n",
       "</g>\n",
       "<!-- density&#45;&gt;citric acid -->\n",
       "<g class=\"edge\" id=\"edge15\">\n",
       "<title>density-&gt;citric acid</title>\n",
       "<path d=\"M433.8108,-215.8314C433.1691,-208.131 432.4061,-198.9743 431.6929,-190.4166\" fill=\"none\" stroke=\"#000000\"/>\n",
       "<polygon fill=\"#000000\" points=\"435.1778,-190.088 430.8593,-180.4133 428.202,-190.6694 435.1778,-190.088\" stroke=\"#000000\"/>\n",
       "</g>\n",
       "<!-- alcohol -->\n",
       "<g class=\"node\" id=\"node12\">\n",
       "<title>alcohol</title>\n",
       "<ellipse cx=\"542.3249\" cy=\"-234\" fill=\"none\" rx=\"44.393\" ry=\"18\" stroke=\"#000000\"/>\n",
       "<text fill=\"#000000\" font-family=\"Times,serif\" font-size=\"14.00\" text-anchor=\"middle\" x=\"542.3249\" y=\"-230.3\">alcohol</text>\n",
       "</g>\n",
       "<!-- alcohol&#45;&gt;citric acid -->\n",
       "<g class=\"edge\" id=\"edge17\">\n",
       "<title>alcohol-&gt;citric acid</title>\n",
       "<path d=\"M518.3605,-218.7307C502.4719,-208.6069 481.3759,-195.1653 463.7069,-183.9071\" fill=\"none\" stroke=\"#000000\"/>\n",
       "<polygon fill=\"#000000\" points=\"465.1395,-180.6699 454.8252,-178.248 461.378,-186.5734 465.1395,-180.6699\" stroke=\"#000000\"/>\n",
       "</g>\n",
       "</g>\n",
       "</svg>"
      ],
      "text/plain": [
       "<IPython.core.display.SVG object>"
      ]
     },
     "metadata": {},
     "output_type": "display_data"
    }
   ],
   "source": [
    "learner = otagr.ContinuousPC(X, conditionning, alpha)\n",
    "learner.setVerbosity(True)\n",
    "#learner.setOptimalPolicy(True)\n",
    "#skel=learner.inferSkeleton()\n",
    "#skel\n",
    "dag = learner.learnDAG()\n",
    "gnb.showDot(dag.toDot(),size=\"20\")"
   ]
  },
  {
   "cell_type": "code",
   "execution_count": 5,
   "metadata": {
    "ExecuteTime": {
     "end_time": "2019-06-20T16:20:33.009910Z",
     "start_time": "2019-06-20T16:20:32.986268Z"
    }
   },
   "outputs": [],
   "source": [
    "t=otagr.ContinuousTTest(X)\n",
    "t.setAlpha(alpha)\n",
    "\n",
    "def petiteDemo(Y,Z,X):\n",
    "    \"\"\"\n",
    "    Print some results just for fun\n",
    "    \"\"\"\n",
    "    _,p,b=t.isIndep(Y,Z,[])\n",
    "    if b:\n",
    "        print(f\"{Y} et {Z} sont indépendants ({100*p:5.3}%)\")\n",
    "    else:\n",
    "        print(f\"{Y} et {Z} ne sont pas indépendants ({100*p:5.3}%)\")\n",
    "    print(\" alors que\")\n",
    "    \n",
    "    _,p,b=t.isIndep(Y,Z,X)\n",
    "    if t.isIndep(Y,Z,X)[2]:\n",
    "        print(f\"{Y} et {Z} sont indépendants sachant {X} ({100*p:5.3}%)\")\n",
    "    else:\n",
    "        print(f\"{Y} et {Z} ne sont pas indépendants sachant {X} ({100*p:5.3}%)\")"
   ]
  },
  {
   "cell_type": "code",
   "execution_count": 6,
   "metadata": {
    "ExecuteTime": {
     "end_time": "2019-06-20T16:05:25.422643Z",
     "start_time": "2019-06-20T16:05:25.415268Z"
    }
   },
   "outputs": [
    {
     "name": "stdout",
     "output_type": "stream",
     "text": [
      "[fixed acidity,volatile acidity,citric acid,residual sugar,chlorides,free sulfur dioxide,total sulfur dioxide,density,pH,sulphates,alcohol,quality]#12\n"
     ]
    }
   ],
   "source": [
    "print(X.getDescription())"
   ]
  },
  {
   "cell_type": "code",
   "execution_count": 7,
   "metadata": {
    "ExecuteTime": {
     "end_time": "2019-06-20T16:05:26.149143Z",
     "start_time": "2019-06-20T16:05:25.593521Z"
    }
   },
   "outputs": [
    {
     "name": "stdout",
     "output_type": "stream",
     "text": [
      "2 et 4 ne sont pas indépendants ( 0.57%)\n",
      " alors que\n",
      "2 et 4 sont indépendants sachant [3] ( 72.1%)\n"
     ]
    }
   ],
   "source": [
    "petiteDemo(2,4,[3])"
   ]
  },
  {
   "cell_type": "code",
   "execution_count": 8,
   "metadata": {
    "ExecuteTime": {
     "end_time": "2019-06-20T16:05:26.676255Z",
     "start_time": "2019-06-20T16:05:26.151317Z"
    }
   },
   "outputs": [
    {
     "name": "stdout",
     "output_type": "stream",
     "text": [
      "1 et 8 ne sont pas indépendants (3.64e-05%)\n",
      " alors que\n",
      "1 et 8 sont indépendants sachant [2] ( 72.1%)\n"
     ]
    }
   ],
   "source": [
    "petiteDemo(1,8,[2])"
   ]
  },
  {
   "cell_type": "code",
   "execution_count": 9,
   "metadata": {
    "ExecuteTime": {
     "end_time": "2019-06-20T16:20:35.994692Z",
     "start_time": "2019-06-20T16:20:35.491368Z"
    }
   },
   "outputs": [
    {
     "name": "stdout",
     "output_type": "stream",
     "text": [
      "2 et 11 ne sont pas indépendants (6.02e-104%)\n",
      " alors que\n",
      "2 et 11 sont indépendants sachant [7] ( 72.1%)\n"
     ]
    }
   ],
   "source": [
    "petiteDemo(2,11,[7])"
   ]
  },
  {
   "cell_type": "code",
   "execution_count": null,
   "metadata": {},
   "outputs": [],
   "source": []
  }
 ],
 "metadata": {
  "hide_input": false,
  "kernelspec": {
   "display_name": "Python 3",
   "language": "python",
   "name": "python3"
  },
  "language_info": {
   "codemirror_mode": {
    "name": "ipython",
    "version": 3
   },
   "file_extension": ".py",
   "mimetype": "text/x-python",
   "name": "python",
   "nbconvert_exporter": "python",
   "pygments_lexer": "ipython3",
   "version": "3.7.3"
  }
 },
 "nbformat": 4,
 "nbformat_minor": 2
}
