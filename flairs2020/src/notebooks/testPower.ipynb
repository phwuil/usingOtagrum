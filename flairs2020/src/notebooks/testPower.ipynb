{
 "cells": [
  {
   "cell_type": "code",
   "execution_count": 1,
   "metadata": {},
   "outputs": [],
   "source": [
    "import openturns as ot\n",
    "import pyAgrum as gum\n",
    "import otagrum as ota"
   ]
  },
  {
   "cell_type": "code",
   "execution_count": 2,
   "metadata": {},
   "outputs": [],
   "source": [
    "import os\n",
    "import os.path as path"
   ]
  },
  {
   "cell_type": "code",
   "execution_count": 3,
   "metadata": {},
   "outputs": [],
   "source": [
    "import matplotlib.pyplot as plt\n",
    "\n",
    "def plot_error(x, mean, std, alpha=0.4, ax=None):\n",
    "    x, mean, std = np.array(x), np.array(mean), np.array(std)\n",
    "    x, mean, std = x.flatten(), mean.flatten(), std.flatten()\n",
    "    lower, upper = mean-std, mean+std\n",
    "    if ax:\n",
    "        ax.fill_between(x, lower, upper, alpha=alpha)\n",
    "    else:\n",
    "        plt.fill_between(x, lower, upper, alpha=alpha)"
   ]
  },
  {
   "cell_type": "code",
   "execution_count": 4,
   "metadata": {},
   "outputs": [],
   "source": [
    "import numpy as np\n",
    "\n",
    "def compute_means(sizes):\n",
    "    mean_sizes = np.mean(sizes, axis=1).reshape((len(sizes),1))\n",
    "    return mean_sizes\n",
    "\n",
    "def compute_stds(sizes):\n",
    "    std_sizes = np.std(sizes, axis=1).reshape((len(sizes),1))\n",
    "    return std_sizes"
   ]
  },
  {
   "cell_type": "code",
   "execution_count": 5,
   "metadata": {},
   "outputs": [],
   "source": [
    "from sklearn.linear_model import LinearRegression"
   ]
  },
  {
   "cell_type": "markdown",
   "metadata": {},
   "source": [
    "# Gaussien"
   ]
  },
  {
   "cell_type": "markdown",
   "metadata": {},
   "source": [
    "## One arc"
   ]
  },
  {
   "cell_type": "code",
   "execution_count": 6,
   "metadata": {},
   "outputs": [],
   "source": [
    "directory = \"../../data/samples/gaussian/oneArc/\""
   ]
  },
  {
   "cell_type": "code",
   "execution_count": 7,
   "metadata": {},
   "outputs": [],
   "source": [
    "directories = [d for d in os.listdir(directory) if path.isdir(path.join(directory, d))]\n",
    "directories.sort()\n",
    "directories = [path.join(directory, d) for d in directories]"
   ]
  },
  {
   "cell_type": "code",
   "execution_count": 8,
   "metadata": {},
   "outputs": [],
   "source": [
    "r_values = [directories[i].split('/')[-1][1:] for i in range(len(directories))]\n",
    "r_values = [r_values[i][0] + '.' + r_values[i][1:] for i in range(len(directories))]\n",
    "r_values = [float(r) for r in r_values]\n",
    "r_values = np.array(r_values)"
   ]
  },
  {
   "cell_type": "code",
   "execution_count": 9,
   "metadata": {},
   "outputs": [
    {
     "name": "stdout",
     "output_type": "stream",
     "text": [
      "../../data/samples/gaussian/oneArc/r01\n",
      "../../data/samples/gaussian/oneArc/r01/oneArc_gaussian_sample_01.csv\n",
      "../../data/samples/gaussian/oneArc/r01/oneArc_gaussian_sample_02.csv\n",
      "../../data/samples/gaussian/oneArc/r01/oneArc_gaussian_sample_03.csv\n",
      "../../data/samples/gaussian/oneArc/r01/oneArc_gaussian_sample_04.csv\n",
      "../../data/samples/gaussian/oneArc/r01/oneArc_gaussian_sample_05.csv\n",
      "../../data/samples/gaussian/oneArc/r01/oneArc_gaussian_sample_06.csv\n",
      "../../data/samples/gaussian/oneArc/r01/oneArc_gaussian_sample_07.csv\n",
      "../../data/samples/gaussian/oneArc/r01/oneArc_gaussian_sample_08.csv\n",
      "../../data/samples/gaussian/oneArc/r01/oneArc_gaussian_sample_09.csv\n",
      "../../data/samples/gaussian/oneArc/r01/oneArc_gaussian_sample_10.csv\n",
      "../../data/samples/gaussian/oneArc/r015\n",
      "../../data/samples/gaussian/oneArc/r015/oneArc_gaussian_sample_01.csv\n",
      "../../data/samples/gaussian/oneArc/r015/oneArc_gaussian_sample_02.csv\n",
      "../../data/samples/gaussian/oneArc/r015/oneArc_gaussian_sample_03.csv\n",
      "../../data/samples/gaussian/oneArc/r015/oneArc_gaussian_sample_04.csv\n",
      "../../data/samples/gaussian/oneArc/r015/oneArc_gaussian_sample_05.csv\n",
      "../../data/samples/gaussian/oneArc/r015/oneArc_gaussian_sample_06.csv\n",
      "../../data/samples/gaussian/oneArc/r015/oneArc_gaussian_sample_07.csv\n",
      "../../data/samples/gaussian/oneArc/r015/oneArc_gaussian_sample_08.csv\n",
      "../../data/samples/gaussian/oneArc/r015/oneArc_gaussian_sample_09.csv\n",
      "../../data/samples/gaussian/oneArc/r015/oneArc_gaussian_sample_10.csv\n",
      "../../data/samples/gaussian/oneArc/r02\n",
      "../../data/samples/gaussian/oneArc/r02/oneArc_gaussian_sample_01.csv\n",
      "../../data/samples/gaussian/oneArc/r02/oneArc_gaussian_sample_02.csv\n",
      "../../data/samples/gaussian/oneArc/r02/oneArc_gaussian_sample_03.csv\n",
      "../../data/samples/gaussian/oneArc/r02/oneArc_gaussian_sample_04.csv\n",
      "../../data/samples/gaussian/oneArc/r02/oneArc_gaussian_sample_05.csv\n",
      "../../data/samples/gaussian/oneArc/r02/oneArc_gaussian_sample_06.csv\n",
      "../../data/samples/gaussian/oneArc/r02/oneArc_gaussian_sample_07.csv\n",
      "../../data/samples/gaussian/oneArc/r02/oneArc_gaussian_sample_08.csv\n",
      "../../data/samples/gaussian/oneArc/r02/oneArc_gaussian_sample_09.csv\n",
      "../../data/samples/gaussian/oneArc/r02/oneArc_gaussian_sample_10.csv\n",
      "../../data/samples/gaussian/oneArc/r025\n",
      "../../data/samples/gaussian/oneArc/r025/oneArc_gaussian_sample_01.csv\n",
      "../../data/samples/gaussian/oneArc/r025/oneArc_gaussian_sample_02.csv\n",
      "../../data/samples/gaussian/oneArc/r025/oneArc_gaussian_sample_03.csv\n",
      "../../data/samples/gaussian/oneArc/r025/oneArc_gaussian_sample_04.csv\n",
      "../../data/samples/gaussian/oneArc/r025/oneArc_gaussian_sample_05.csv\n",
      "../../data/samples/gaussian/oneArc/r025/oneArc_gaussian_sample_06.csv\n",
      "../../data/samples/gaussian/oneArc/r025/oneArc_gaussian_sample_07.csv\n",
      "../../data/samples/gaussian/oneArc/r025/oneArc_gaussian_sample_08.csv\n",
      "../../data/samples/gaussian/oneArc/r025/oneArc_gaussian_sample_09.csv\n",
      "../../data/samples/gaussian/oneArc/r025/oneArc_gaussian_sample_10.csv\n",
      "../../data/samples/gaussian/oneArc/r03\n",
      "../../data/samples/gaussian/oneArc/r03/oneArc_gaussian_sample_01.csv\n",
      "../../data/samples/gaussian/oneArc/r03/oneArc_gaussian_sample_02.csv\n",
      "../../data/samples/gaussian/oneArc/r03/oneArc_gaussian_sample_03.csv\n",
      "../../data/samples/gaussian/oneArc/r03/oneArc_gaussian_sample_04.csv\n",
      "../../data/samples/gaussian/oneArc/r03/oneArc_gaussian_sample_05.csv\n",
      "../../data/samples/gaussian/oneArc/r03/oneArc_gaussian_sample_06.csv\n",
      "../../data/samples/gaussian/oneArc/r03/oneArc_gaussian_sample_07.csv\n",
      "../../data/samples/gaussian/oneArc/r03/oneArc_gaussian_sample_08.csv\n",
      "../../data/samples/gaussian/oneArc/r03/oneArc_gaussian_sample_09.csv\n",
      "../../data/samples/gaussian/oneArc/r03/oneArc_gaussian_sample_10.csv\n",
      "../../data/samples/gaussian/oneArc/r035\n",
      "../../data/samples/gaussian/oneArc/r035/oneArc_gaussian_sample_01.csv\n",
      "../../data/samples/gaussian/oneArc/r035/oneArc_gaussian_sample_02.csv\n",
      "../../data/samples/gaussian/oneArc/r035/oneArc_gaussian_sample_03.csv\n",
      "../../data/samples/gaussian/oneArc/r035/oneArc_gaussian_sample_04.csv\n",
      "../../data/samples/gaussian/oneArc/r035/oneArc_gaussian_sample_05.csv\n",
      "../../data/samples/gaussian/oneArc/r035/oneArc_gaussian_sample_06.csv\n",
      "../../data/samples/gaussian/oneArc/r035/oneArc_gaussian_sample_07.csv\n",
      "../../data/samples/gaussian/oneArc/r035/oneArc_gaussian_sample_08.csv\n",
      "../../data/samples/gaussian/oneArc/r035/oneArc_gaussian_sample_09.csv\n",
      "../../data/samples/gaussian/oneArc/r035/oneArc_gaussian_sample_10.csv\n",
      "../../data/samples/gaussian/oneArc/r04\n",
      "../../data/samples/gaussian/oneArc/r04/oneArc_gaussian_sample_01.csv\n",
      "../../data/samples/gaussian/oneArc/r04/oneArc_gaussian_sample_02.csv\n",
      "../../data/samples/gaussian/oneArc/r04/oneArc_gaussian_sample_03.csv\n",
      "../../data/samples/gaussian/oneArc/r04/oneArc_gaussian_sample_04.csv\n",
      "../../data/samples/gaussian/oneArc/r04/oneArc_gaussian_sample_05.csv\n",
      "../../data/samples/gaussian/oneArc/r04/oneArc_gaussian_sample_06.csv\n",
      "../../data/samples/gaussian/oneArc/r04/oneArc_gaussian_sample_07.csv\n",
      "../../data/samples/gaussian/oneArc/r04/oneArc_gaussian_sample_08.csv\n",
      "../../data/samples/gaussian/oneArc/r04/oneArc_gaussian_sample_09.csv\n",
      "../../data/samples/gaussian/oneArc/r04/oneArc_gaussian_sample_10.csv\n",
      "../../data/samples/gaussian/oneArc/r045\n",
      "../../data/samples/gaussian/oneArc/r045/oneArc_gaussian_sample_01.csv\n",
      "../../data/samples/gaussian/oneArc/r045/oneArc_gaussian_sample_02.csv\n",
      "../../data/samples/gaussian/oneArc/r045/oneArc_gaussian_sample_03.csv\n",
      "../../data/samples/gaussian/oneArc/r045/oneArc_gaussian_sample_04.csv\n",
      "../../data/samples/gaussian/oneArc/r045/oneArc_gaussian_sample_05.csv\n",
      "../../data/samples/gaussian/oneArc/r045/oneArc_gaussian_sample_06.csv\n",
      "../../data/samples/gaussian/oneArc/r045/oneArc_gaussian_sample_07.csv\n",
      "../../data/samples/gaussian/oneArc/r045/oneArc_gaussian_sample_08.csv\n",
      "../../data/samples/gaussian/oneArc/r045/oneArc_gaussian_sample_09.csv\n",
      "../../data/samples/gaussian/oneArc/r045/oneArc_gaussian_sample_10.csv\n",
      "../../data/samples/gaussian/oneArc/r05\n",
      "../../data/samples/gaussian/oneArc/r05/oneArc_gaussian_sample_01.csv\n",
      "../../data/samples/gaussian/oneArc/r05/oneArc_gaussian_sample_02.csv\n",
      "../../data/samples/gaussian/oneArc/r05/oneArc_gaussian_sample_03.csv\n",
      "../../data/samples/gaussian/oneArc/r05/oneArc_gaussian_sample_04.csv\n",
      "../../data/samples/gaussian/oneArc/r05/oneArc_gaussian_sample_05.csv\n",
      "../../data/samples/gaussian/oneArc/r05/oneArc_gaussian_sample_06.csv\n",
      "../../data/samples/gaussian/oneArc/r05/oneArc_gaussian_sample_07.csv\n",
      "../../data/samples/gaussian/oneArc/r05/oneArc_gaussian_sample_08.csv\n",
      "../../data/samples/gaussian/oneArc/r05/oneArc_gaussian_sample_09.csv\n",
      "../../data/samples/gaussian/oneArc/r05/oneArc_gaussian_sample_10.csv\n",
      "../../data/samples/gaussian/oneArc/r055\n",
      "../../data/samples/gaussian/oneArc/r055/oneArc_gaussian_sample_01.csv\n",
      "../../data/samples/gaussian/oneArc/r055/oneArc_gaussian_sample_02.csv\n",
      "../../data/samples/gaussian/oneArc/r055/oneArc_gaussian_sample_03.csv\n",
      "../../data/samples/gaussian/oneArc/r055/oneArc_gaussian_sample_04.csv\n",
      "../../data/samples/gaussian/oneArc/r055/oneArc_gaussian_sample_05.csv\n",
      "../../data/samples/gaussian/oneArc/r055/oneArc_gaussian_sample_06.csv\n",
      "../../data/samples/gaussian/oneArc/r055/oneArc_gaussian_sample_07.csv\n",
      "../../data/samples/gaussian/oneArc/r055/oneArc_gaussian_sample_08.csv\n",
      "../../data/samples/gaussian/oneArc/r055/oneArc_gaussian_sample_09.csv\n",
      "../../data/samples/gaussian/oneArc/r055/oneArc_gaussian_sample_10.csv\n",
      "../../data/samples/gaussian/oneArc/r06\n",
      "../../data/samples/gaussian/oneArc/r06/oneArc_gaussian_sample_01.csv\n",
      "../../data/samples/gaussian/oneArc/r06/oneArc_gaussian_sample_02.csv\n",
      "../../data/samples/gaussian/oneArc/r06/oneArc_gaussian_sample_03.csv\n",
      "../../data/samples/gaussian/oneArc/r06/oneArc_gaussian_sample_04.csv\n",
      "../../data/samples/gaussian/oneArc/r06/oneArc_gaussian_sample_05.csv\n",
      "../../data/samples/gaussian/oneArc/r06/oneArc_gaussian_sample_06.csv\n",
      "../../data/samples/gaussian/oneArc/r06/oneArc_gaussian_sample_07.csv\n",
      "../../data/samples/gaussian/oneArc/r06/oneArc_gaussian_sample_08.csv\n",
      "../../data/samples/gaussian/oneArc/r06/oneArc_gaussian_sample_09.csv\n",
      "../../data/samples/gaussian/oneArc/r06/oneArc_gaussian_sample_10.csv\n",
      "../../data/samples/gaussian/oneArc/r065\n",
      "../../data/samples/gaussian/oneArc/r065/oneArc_gaussian_sample_01.csv\n",
      "../../data/samples/gaussian/oneArc/r065/oneArc_gaussian_sample_02.csv\n"
     ]
    },
    {
     "name": "stdout",
     "output_type": "stream",
     "text": [
      "../../data/samples/gaussian/oneArc/r065/oneArc_gaussian_sample_03.csv\n",
      "../../data/samples/gaussian/oneArc/r065/oneArc_gaussian_sample_04.csv\n",
      "../../data/samples/gaussian/oneArc/r065/oneArc_gaussian_sample_05.csv\n",
      "../../data/samples/gaussian/oneArc/r065/oneArc_gaussian_sample_06.csv\n",
      "../../data/samples/gaussian/oneArc/r065/oneArc_gaussian_sample_07.csv\n",
      "../../data/samples/gaussian/oneArc/r065/oneArc_gaussian_sample_08.csv\n",
      "../../data/samples/gaussian/oneArc/r065/oneArc_gaussian_sample_09.csv\n",
      "../../data/samples/gaussian/oneArc/r065/oneArc_gaussian_sample_10.csv\n",
      "../../data/samples/gaussian/oneArc/r07\n",
      "../../data/samples/gaussian/oneArc/r07/oneArc_gaussian_sample_01.csv\n",
      "../../data/samples/gaussian/oneArc/r07/oneArc_gaussian_sample_02.csv\n",
      "../../data/samples/gaussian/oneArc/r07/oneArc_gaussian_sample_03.csv\n",
      "../../data/samples/gaussian/oneArc/r07/oneArc_gaussian_sample_04.csv\n",
      "../../data/samples/gaussian/oneArc/r07/oneArc_gaussian_sample_05.csv\n",
      "../../data/samples/gaussian/oneArc/r07/oneArc_gaussian_sample_06.csv\n",
      "../../data/samples/gaussian/oneArc/r07/oneArc_gaussian_sample_07.csv\n",
      "../../data/samples/gaussian/oneArc/r07/oneArc_gaussian_sample_08.csv\n",
      "../../data/samples/gaussian/oneArc/r07/oneArc_gaussian_sample_09.csv\n",
      "../../data/samples/gaussian/oneArc/r07/oneArc_gaussian_sample_10.csv\n",
      "../../data/samples/gaussian/oneArc/r075\n",
      "../../data/samples/gaussian/oneArc/r075/oneArc_gaussian_sample_01.csv\n",
      "../../data/samples/gaussian/oneArc/r075/oneArc_gaussian_sample_02.csv\n",
      "../../data/samples/gaussian/oneArc/r075/oneArc_gaussian_sample_03.csv\n",
      "../../data/samples/gaussian/oneArc/r075/oneArc_gaussian_sample_04.csv\n",
      "../../data/samples/gaussian/oneArc/r075/oneArc_gaussian_sample_05.csv\n",
      "../../data/samples/gaussian/oneArc/r075/oneArc_gaussian_sample_06.csv\n",
      "../../data/samples/gaussian/oneArc/r075/oneArc_gaussian_sample_07.csv\n",
      "../../data/samples/gaussian/oneArc/r075/oneArc_gaussian_sample_08.csv\n",
      "../../data/samples/gaussian/oneArc/r075/oneArc_gaussian_sample_09.csv\n",
      "../../data/samples/gaussian/oneArc/r075/oneArc_gaussian_sample_10.csv\n",
      "../../data/samples/gaussian/oneArc/r08\n",
      "../../data/samples/gaussian/oneArc/r08/oneArc_gaussian_sample_01.csv\n",
      "../../data/samples/gaussian/oneArc/r08/oneArc_gaussian_sample_02.csv\n",
      "../../data/samples/gaussian/oneArc/r08/oneArc_gaussian_sample_03.csv\n",
      "../../data/samples/gaussian/oneArc/r08/oneArc_gaussian_sample_04.csv\n",
      "../../data/samples/gaussian/oneArc/r08/oneArc_gaussian_sample_05.csv\n",
      "../../data/samples/gaussian/oneArc/r08/oneArc_gaussian_sample_06.csv\n",
      "../../data/samples/gaussian/oneArc/r08/oneArc_gaussian_sample_07.csv\n",
      "../../data/samples/gaussian/oneArc/r08/oneArc_gaussian_sample_08.csv\n",
      "../../data/samples/gaussian/oneArc/r08/oneArc_gaussian_sample_09.csv\n",
      "../../data/samples/gaussian/oneArc/r08/oneArc_gaussian_sample_10.csv\n",
      "../../data/samples/gaussian/oneArc/r085\n",
      "../../data/samples/gaussian/oneArc/r085/oneArc_gaussian_sample_01.csv\n",
      "../../data/samples/gaussian/oneArc/r085/oneArc_gaussian_sample_02.csv\n",
      "../../data/samples/gaussian/oneArc/r085/oneArc_gaussian_sample_03.csv\n",
      "../../data/samples/gaussian/oneArc/r085/oneArc_gaussian_sample_04.csv\n",
      "../../data/samples/gaussian/oneArc/r085/oneArc_gaussian_sample_05.csv\n",
      "../../data/samples/gaussian/oneArc/r085/oneArc_gaussian_sample_06.csv\n",
      "../../data/samples/gaussian/oneArc/r085/oneArc_gaussian_sample_07.csv\n",
      "../../data/samples/gaussian/oneArc/r085/oneArc_gaussian_sample_08.csv\n",
      "../../data/samples/gaussian/oneArc/r085/oneArc_gaussian_sample_09.csv\n",
      "../../data/samples/gaussian/oneArc/r085/oneArc_gaussian_sample_10.csv\n",
      "../../data/samples/gaussian/oneArc/r09\n",
      "../../data/samples/gaussian/oneArc/r09/oneArc_gaussian_sample_01.csv\n",
      "../../data/samples/gaussian/oneArc/r09/oneArc_gaussian_sample_02.csv\n",
      "../../data/samples/gaussian/oneArc/r09/oneArc_gaussian_sample_03.csv\n",
      "../../data/samples/gaussian/oneArc/r09/oneArc_gaussian_sample_04.csv\n",
      "../../data/samples/gaussian/oneArc/r09/oneArc_gaussian_sample_05.csv\n",
      "../../data/samples/gaussian/oneArc/r09/oneArc_gaussian_sample_06.csv\n",
      "../../data/samples/gaussian/oneArc/r09/oneArc_gaussian_sample_07.csv\n",
      "../../data/samples/gaussian/oneArc/r09/oneArc_gaussian_sample_08.csv\n",
      "../../data/samples/gaussian/oneArc/r09/oneArc_gaussian_sample_09.csv\n",
      "../../data/samples/gaussian/oneArc/r09/oneArc_gaussian_sample_10.csv\n",
      "../../data/samples/gaussian/oneArc/r095\n",
      "../../data/samples/gaussian/oneArc/r095/oneArc_gaussian_sample_01.csv\n",
      "../../data/samples/gaussian/oneArc/r095/oneArc_gaussian_sample_02.csv\n",
      "../../data/samples/gaussian/oneArc/r095/oneArc_gaussian_sample_03.csv\n",
      "../../data/samples/gaussian/oneArc/r095/oneArc_gaussian_sample_04.csv\n",
      "../../data/samples/gaussian/oneArc/r095/oneArc_gaussian_sample_05.csv\n",
      "../../data/samples/gaussian/oneArc/r095/oneArc_gaussian_sample_06.csv\n",
      "../../data/samples/gaussian/oneArc/r095/oneArc_gaussian_sample_07.csv\n",
      "../../data/samples/gaussian/oneArc/r095/oneArc_gaussian_sample_08.csv\n",
      "../../data/samples/gaussian/oneArc/r095/oneArc_gaussian_sample_09.csv\n",
      "../../data/samples/gaussian/oneArc/r095/oneArc_gaussian_sample_10.csv\n"
     ]
    }
   ],
   "source": [
    "n_inARow = 100\n",
    "n_restart = 10\n",
    "\n",
    "fromSize = []\n",
    "for d in directories:\n",
    "    print(d)\n",
    "    files = [f for f in os.listdir(d) if path.isfile(path.join(d, f))]\n",
    "    files.sort()\n",
    "    files = [path.join(d, f) for f in files]\n",
    "    files = files[0:n_restart]\n",
    "    restarts = []\n",
    "    for f in files:\n",
    "        print(f)\n",
    "        #file = path.join(d, \"oneArc_gaussian_sample_01.csv\")\n",
    "        sample = ot.Sample.ImportFromTextFile(f, ',')\n",
    "\n",
    "        inARow = 0\n",
    "        for size in range(2, len(sample)):\n",
    "            test = ota.ContinuousTTest(sample[0:size])\n",
    "            if test.isIndep(0,1,[])[2]:\n",
    "                inARow = 0\n",
    "            else:\n",
    "                inARow +=1\n",
    "                if inARow >= n_inARow:\n",
    "                    restarts.append(size-inARow+1)\n",
    "                    break\n",
    "    fromSize.append(restarts)"
   ]
  },
  {
   "cell_type": "code",
   "execution_count": 10,
   "metadata": {},
   "outputs": [],
   "source": [
    "mean = compute_means(fromSize)\n",
    "std = compute_stds(fromSize)"
   ]
  },
  {
   "cell_type": "code",
   "execution_count": 11,
   "metadata": {
    "scrolled": true
   },
   "outputs": [
    {
     "data": {
      "image/png": "[encoded data removed]",
      "text/plain": [
       "<Figure size 432x288 with 1 Axes>"
      ]
     },
     "metadata": {
      "needs_background": "light"
     },
     "output_type": "display_data"
    }
   ],
   "source": [
    "plt.loglog(r_values, mean)\n",
    "#plot_error(r_values, mean, std)\n",
    "plt.show()"
   ]
  },
  {
   "cell_type": "code",
   "execution_count": 12,
   "metadata": {},
   "outputs": [],
   "source": [
    "reg = LinearRegression().fit(np.log(r_values.reshape(-1,1)), np.log(mean))"
   ]
  },
  {
   "cell_type": "code",
   "execution_count": 13,
   "metadata": {},
   "outputs": [
    {
     "name": "stdout",
     "output_type": "stream",
     "text": [
      "-1.9170054833529582 3.755814292592948\n"
     ]
    }
   ],
   "source": [
    "a = reg.coef_[0][0]\n",
    "b = reg.intercept_[0]\n",
    "print(a,b)"
   ]
  },
  {
   "cell_type": "code",
   "execution_count": 14,
   "metadata": {},
   "outputs": [],
   "source": [
    "x = np.linspace(0.1,0.95,18)\n",
    "y = np.exp(b) * x**a"
   ]
  },
  {
   "cell_type": "code",
   "execution_count": 15,
   "metadata": {},
   "outputs": [
    {
     "data": {
      "image/png": "[encoded data removed]",
      "text/plain": [
       "<Figure size 432x288 with 1 Axes>"
      ]
     },
     "metadata": {
      "needs_background": "light"
     },
     "output_type": "display_data"
    }
   ],
   "source": [
    "plt.plot(x,y)\n",
    "plt.plot(r_values, mean)\n",
    "plt.show()"
   ]
  },
  {
   "cell_type": "markdown",
   "metadata": {},
   "source": [
    "## V-structure"
   ]
  },
  {
   "cell_type": "code",
   "execution_count": 39,
   "metadata": {},
   "outputs": [],
   "source": [
    "directory = \"../../data/samples/gaussian/vStruct/\""
   ]
  },
  {
   "cell_type": "code",
   "execution_count": 40,
   "metadata": {},
   "outputs": [],
   "source": [
    "directories = [d for d in os.listdir(directory) if path.isdir(path.join(directory, d))]\n",
    "directories.sort()\n",
    "directories = [path.join(directory, d) for d in directories]"
   ]
  },
  {
   "cell_type": "code",
   "execution_count": 41,
   "metadata": {},
   "outputs": [],
   "source": [
    "r_values = [directories[i].split('/')[-1][1:] for i in range(len(directories))]\n",
    "r_values = [r_values[i][0] + '.' + r_values[i][1:] for i in range(len(directories))]\n",
    "r_values = [float(r) for r in r_values]\n",
    "r_values = np.array(r_values)"
   ]
  },
  {
   "cell_type": "code",
   "execution_count": 45,
   "metadata": {},
   "outputs": [
    {
     "name": "stdout",
     "output_type": "stream",
     "text": [
      "../../data/samples/gaussian/vStruct/r01\n",
      "../../data/samples/gaussian/vStruct/r01/vStruct_gaussian_sample_01.csv\n",
      "1002\n",
      "(0.42581107939248086, 0.6702455130118841, True)\n",
      "../../data/samples/gaussian/vStruct/r01/vStruct_gaussian_sample_02.csv\n",
      "1002\n",
      "(-0.01460044797292998, 0.9883509418606664, True)\n"
     ]
    },
    {
     "ename": "KeyboardInterrupt",
     "evalue": "",
     "output_type": "error",
     "traceback": [
      "\u001b[0;31m---------------------------------------------------------------------------\u001b[0m",
      "\u001b[0;31mKeyboardInterrupt\u001b[0m                         Traceback (most recent call last)",
      "\u001b[0;32m<ipython-input-45-ce29c5567d7a>\u001b[0m in \u001b[0;36m<module>\u001b[0;34m\u001b[0m\n\u001b[1;32m     21\u001b[0m                 \u001b[0mprint\u001b[0m\u001b[0;34m(\u001b[0m\u001b[0msize\u001b[0m\u001b[0;34m)\u001b[0m\u001b[0;34m\u001b[0m\u001b[0;34m\u001b[0m\u001b[0m\n\u001b[1;32m     22\u001b[0m                 \u001b[0mprint\u001b[0m\u001b[0;34m(\u001b[0m\u001b[0mtest\u001b[0m\u001b[0;34m.\u001b[0m\u001b[0misIndep\u001b[0m\u001b[0;34m(\u001b[0m\u001b[0;36m0\u001b[0m\u001b[0;34m,\u001b[0m\u001b[0;36m2\u001b[0m\u001b[0;34m,\u001b[0m\u001b[0;34m[\u001b[0m\u001b[0;36m1\u001b[0m\u001b[0;34m]\u001b[0m\u001b[0;34m)\u001b[0m\u001b[0;34m)\u001b[0m\u001b[0;34m\u001b[0m\u001b[0;34m\u001b[0m\u001b[0m\n\u001b[0;32m---> 23\u001b[0;31m             \u001b[0;32mif\u001b[0m \u001b[0mtest\u001b[0m\u001b[0;34m.\u001b[0m\u001b[0misIndep\u001b[0m\u001b[0;34m(\u001b[0m\u001b[0;36m0\u001b[0m\u001b[0;34m,\u001b[0m\u001b[0;36m2\u001b[0m\u001b[0;34m,\u001b[0m\u001b[0;34m[\u001b[0m\u001b[0;36m1\u001b[0m\u001b[0;34m]\u001b[0m\u001b[0;34m)\u001b[0m\u001b[0;34m[\u001b[0m\u001b[0;36m2\u001b[0m\u001b[0;34m]\u001b[0m\u001b[0;34m:\u001b[0m\u001b[0;34m\u001b[0m\u001b[0;34m\u001b[0m\u001b[0m\n\u001b[0m\u001b[1;32m     24\u001b[0m                 \u001b[0minARow\u001b[0m \u001b[0;34m=\u001b[0m \u001b[0;36m0\u001b[0m\u001b[0;34m\u001b[0m\u001b[0;34m\u001b[0m\u001b[0m\n\u001b[1;32m     25\u001b[0m             \u001b[0;32melse\u001b[0m\u001b[0;34m:\u001b[0m\u001b[0;34m\u001b[0m\u001b[0;34m\u001b[0m\u001b[0m\n",
      "\u001b[0;32m~/.venvs/otagrum/lib/python3.7/site-packages/otagrum/otagrum.py\u001b[0m in \u001b[0;36misIndep\u001b[0;34m(self, Y, Z, X)\u001b[0m\n\u001b[1;32m   1636\u001b[0m             \u001b[0mrvalue3\u001b[0m\u001b[0;34m\u001b[0m\u001b[0;34m\u001b[0m\u001b[0m\n\u001b[1;32m   1637\u001b[0m         \"\"\"\n\u001b[0;32m-> 1638\u001b[0;31m         \u001b[0;32mreturn\u001b[0m \u001b[0m_otagrum\u001b[0m\u001b[0;34m.\u001b[0m\u001b[0mContinuousTTest_isIndep\u001b[0m\u001b[0;34m(\u001b[0m\u001b[0mself\u001b[0m\u001b[0;34m,\u001b[0m \u001b[0mY\u001b[0m\u001b[0;34m,\u001b[0m \u001b[0mZ\u001b[0m\u001b[0;34m,\u001b[0m \u001b[0mX\u001b[0m\u001b[0;34m)\u001b[0m\u001b[0;34m\u001b[0m\u001b[0;34m\u001b[0m\u001b[0m\n\u001b[0m\u001b[1;32m   1639\u001b[0m \u001b[0;34m\u001b[0m\u001b[0m\n\u001b[1;32m   1640\u001b[0m     \u001b[0;32mdef\u001b[0m \u001b[0m__str__\u001b[0m\u001b[0;34m(\u001b[0m\u001b[0mself\u001b[0m\u001b[0;34m,\u001b[0m \u001b[0;34m*\u001b[0m\u001b[0margs\u001b[0m\u001b[0;34m)\u001b[0m\u001b[0;34m:\u001b[0m\u001b[0;34m\u001b[0m\u001b[0;34m\u001b[0m\u001b[0m\n",
      "\u001b[0;31mKeyboardInterrupt\u001b[0m: "
     ]
    }
   ],
   "source": [
    "n_inARow = 3\n",
    "n_restart = 10\n",
    "step_size = 1000\n",
    "\n",
    "fromSize = []\n",
    "for d in directories:\n",
    "    print(d)\n",
    "    files = [f for f in os.listdir(d) if path.isfile(path.join(d, f))]\n",
    "    files.sort()\n",
    "    files = [path.join(d, f) for f in files]\n",
    "    files = files[0:n_restart]\n",
    "    restarts = []\n",
    "    for f in files:\n",
    "        print(f)\n",
    "        #file = path.join(d, \"oneArc_gaussian_sample_01.csv\")\n",
    "        sample = ot.Sample.ImportFromTextFile(f, ',')\n",
    "        inARow = 0\n",
    "        for size in range(2, len(sample), step_size):\n",
    "            test = ota.ContinuousTTest(sample[0:size])\n",
    "            if size%1002 == 0:\n",
    "                print(size)\n",
    "                print(test.isIndep(0,2,[1]))\n",
    "            if test.isIndep(0,2,[1])[2]:\n",
    "                inARow = 0\n",
    "            else:\n",
    "                inARow +=1\n",
    "                if inARow >= n_inARow:\n",
    "                    restarts.append(size-inARow+1)\n",
    "                    break\n",
    "    fromSize.append(restarts)"
   ]
  },
  {
   "cell_type": "markdown",
   "metadata": {},
   "source": [
    "# Student"
   ]
  },
  {
   "cell_type": "code",
   "execution_count": 16,
   "metadata": {},
   "outputs": [],
   "source": [
    "directory = \"../../data/samples/student/oneArc/\""
   ]
  },
  {
   "cell_type": "code",
   "execution_count": 17,
   "metadata": {},
   "outputs": [],
   "source": [
    "directories = [d for d in os.listdir(directory) if path.isdir(path.join(directory, d))]\n",
    "directories.sort()\n",
    "directories = [path.join(directory, d) for d in directories]"
   ]
  },
  {
   "cell_type": "code",
   "execution_count": 18,
   "metadata": {},
   "outputs": [],
   "source": [
    "r_values = [directories[i].split('/')[-1][1:] for i in range(len(directories))]\n",
    "r_values = [r_values[i][0] + '.' + r_values[i][1:] for i in range(len(directories))]\n",
    "r_values = [float(r) for r in r_values]\n",
    "r_values = np.array(r_values)"
   ]
  },
  {
   "cell_type": "code",
   "execution_count": 19,
   "metadata": {},
   "outputs": [
    {
     "name": "stdout",
     "output_type": "stream",
     "text": [
      "../../data/samples/student/oneArc/r01\n",
      "../../data/samples/student/oneArc/r01/oneArc_student_sample_01.csv\n",
      "../../data/samples/student/oneArc/r01/oneArc_student_sample_02.csv\n",
      "../../data/samples/student/oneArc/r01/oneArc_student_sample_03.csv\n",
      "../../data/samples/student/oneArc/r01/oneArc_student_sample_04.csv\n",
      "../../data/samples/student/oneArc/r01/oneArc_student_sample_05.csv\n",
      "../../data/samples/student/oneArc/r01/oneArc_student_sample_06.csv\n",
      "../../data/samples/student/oneArc/r01/oneArc_student_sample_07.csv\n",
      "../../data/samples/student/oneArc/r01/oneArc_student_sample_08.csv\n",
      "../../data/samples/student/oneArc/r01/oneArc_student_sample_09.csv\n",
      "../../data/samples/student/oneArc/r01/oneArc_student_sample_10.csv\n",
      "../../data/samples/student/oneArc/r015\n",
      "../../data/samples/student/oneArc/r015/oneArc_student_sample_01.csv\n",
      "../../data/samples/student/oneArc/r015/oneArc_student_sample_02.csv\n",
      "../../data/samples/student/oneArc/r015/oneArc_student_sample_03.csv\n",
      "../../data/samples/student/oneArc/r015/oneArc_student_sample_04.csv\n",
      "../../data/samples/student/oneArc/r015/oneArc_student_sample_05.csv\n",
      "../../data/samples/student/oneArc/r015/oneArc_student_sample_06.csv\n",
      "../../data/samples/student/oneArc/r015/oneArc_student_sample_07.csv\n",
      "../../data/samples/student/oneArc/r015/oneArc_student_sample_08.csv\n",
      "../../data/samples/student/oneArc/r015/oneArc_student_sample_09.csv\n",
      "../../data/samples/student/oneArc/r015/oneArc_student_sample_10.csv\n",
      "../../data/samples/student/oneArc/r02\n",
      "../../data/samples/student/oneArc/r02/oneArc_student_sample_01.csv\n",
      "../../data/samples/student/oneArc/r02/oneArc_student_sample_02.csv\n",
      "../../data/samples/student/oneArc/r02/oneArc_student_sample_03.csv\n",
      "../../data/samples/student/oneArc/r02/oneArc_student_sample_04.csv\n",
      "../../data/samples/student/oneArc/r02/oneArc_student_sample_05.csv\n",
      "../../data/samples/student/oneArc/r02/oneArc_student_sample_06.csv\n",
      "../../data/samples/student/oneArc/r02/oneArc_student_sample_07.csv\n",
      "../../data/samples/student/oneArc/r02/oneArc_student_sample_08.csv\n",
      "../../data/samples/student/oneArc/r02/oneArc_student_sample_09.csv\n",
      "../../data/samples/student/oneArc/r02/oneArc_student_sample_10.csv\n",
      "../../data/samples/student/oneArc/r025\n",
      "../../data/samples/student/oneArc/r025/oneArc_student_sample_01.csv\n",
      "../../data/samples/student/oneArc/r025/oneArc_student_sample_02.csv\n",
      "../../data/samples/student/oneArc/r025/oneArc_student_sample_03.csv\n",
      "../../data/samples/student/oneArc/r025/oneArc_student_sample_04.csv\n",
      "../../data/samples/student/oneArc/r025/oneArc_student_sample_05.csv\n",
      "../../data/samples/student/oneArc/r025/oneArc_student_sample_06.csv\n",
      "../../data/samples/student/oneArc/r025/oneArc_student_sample_07.csv\n",
      "../../data/samples/student/oneArc/r025/oneArc_student_sample_08.csv\n",
      "../../data/samples/student/oneArc/r025/oneArc_student_sample_09.csv\n",
      "../../data/samples/student/oneArc/r025/oneArc_student_sample_10.csv\n",
      "../../data/samples/student/oneArc/r03\n",
      "../../data/samples/student/oneArc/r03/oneArc_student_sample_01.csv\n",
      "../../data/samples/student/oneArc/r03/oneArc_student_sample_02.csv\n",
      "../../data/samples/student/oneArc/r03/oneArc_student_sample_03.csv\n",
      "../../data/samples/student/oneArc/r03/oneArc_student_sample_04.csv\n",
      "../../data/samples/student/oneArc/r03/oneArc_student_sample_05.csv\n",
      "../../data/samples/student/oneArc/r03/oneArc_student_sample_06.csv\n",
      "../../data/samples/student/oneArc/r03/oneArc_student_sample_07.csv\n",
      "../../data/samples/student/oneArc/r03/oneArc_student_sample_08.csv\n",
      "../../data/samples/student/oneArc/r03/oneArc_student_sample_09.csv\n",
      "../../data/samples/student/oneArc/r03/oneArc_student_sample_10.csv\n",
      "../../data/samples/student/oneArc/r035\n",
      "../../data/samples/student/oneArc/r035/oneArc_student_sample_01.csv\n",
      "../../data/samples/student/oneArc/r035/oneArc_student_sample_02.csv\n",
      "../../data/samples/student/oneArc/r035/oneArc_student_sample_03.csv\n",
      "../../data/samples/student/oneArc/r035/oneArc_student_sample_04.csv\n",
      "../../data/samples/student/oneArc/r035/oneArc_student_sample_05.csv\n",
      "../../data/samples/student/oneArc/r035/oneArc_student_sample_06.csv\n",
      "../../data/samples/student/oneArc/r035/oneArc_student_sample_07.csv\n",
      "../../data/samples/student/oneArc/r035/oneArc_student_sample_08.csv\n",
      "../../data/samples/student/oneArc/r035/oneArc_student_sample_09.csv\n",
      "../../data/samples/student/oneArc/r035/oneArc_student_sample_10.csv\n",
      "../../data/samples/student/oneArc/r04\n",
      "../../data/samples/student/oneArc/r04/oneArc_student_sample_01.csv\n",
      "../../data/samples/student/oneArc/r04/oneArc_student_sample_02.csv\n",
      "../../data/samples/student/oneArc/r04/oneArc_student_sample_03.csv\n",
      "../../data/samples/student/oneArc/r04/oneArc_student_sample_04.csv\n",
      "../../data/samples/student/oneArc/r04/oneArc_student_sample_05.csv\n",
      "../../data/samples/student/oneArc/r04/oneArc_student_sample_06.csv\n",
      "../../data/samples/student/oneArc/r04/oneArc_student_sample_07.csv\n",
      "../../data/samples/student/oneArc/r04/oneArc_student_sample_08.csv\n",
      "../../data/samples/student/oneArc/r04/oneArc_student_sample_09.csv\n",
      "../../data/samples/student/oneArc/r04/oneArc_student_sample_10.csv\n",
      "../../data/samples/student/oneArc/r045\n",
      "../../data/samples/student/oneArc/r045/oneArc_student_sample_01.csv\n",
      "../../data/samples/student/oneArc/r045/oneArc_student_sample_02.csv\n",
      "../../data/samples/student/oneArc/r045/oneArc_student_sample_03.csv\n",
      "../../data/samples/student/oneArc/r045/oneArc_student_sample_04.csv\n",
      "../../data/samples/student/oneArc/r045/oneArc_student_sample_05.csv\n",
      "../../data/samples/student/oneArc/r045/oneArc_student_sample_06.csv\n",
      "../../data/samples/student/oneArc/r045/oneArc_student_sample_07.csv\n",
      "../../data/samples/student/oneArc/r045/oneArc_student_sample_08.csv\n",
      "../../data/samples/student/oneArc/r045/oneArc_student_sample_09.csv\n",
      "../../data/samples/student/oneArc/r045/oneArc_student_sample_10.csv\n",
      "../../data/samples/student/oneArc/r05\n",
      "../../data/samples/student/oneArc/r05/oneArc_student_sample_01.csv\n",
      "../../data/samples/student/oneArc/r05/oneArc_student_sample_02.csv\n",
      "../../data/samples/student/oneArc/r05/oneArc_student_sample_03.csv\n",
      "../../data/samples/student/oneArc/r05/oneArc_student_sample_04.csv\n",
      "../../data/samples/student/oneArc/r05/oneArc_student_sample_05.csv\n",
      "../../data/samples/student/oneArc/r05/oneArc_student_sample_06.csv\n",
      "../../data/samples/student/oneArc/r05/oneArc_student_sample_07.csv\n",
      "../../data/samples/student/oneArc/r05/oneArc_student_sample_08.csv\n",
      "../../data/samples/student/oneArc/r05/oneArc_student_sample_09.csv\n",
      "../../data/samples/student/oneArc/r05/oneArc_student_sample_10.csv\n",
      "../../data/samples/student/oneArc/r055\n",
      "../../data/samples/student/oneArc/r055/oneArc_student_sample_01.csv\n",
      "../../data/samples/student/oneArc/r055/oneArc_student_sample_02.csv\n",
      "../../data/samples/student/oneArc/r055/oneArc_student_sample_03.csv\n",
      "../../data/samples/student/oneArc/r055/oneArc_student_sample_04.csv\n",
      "../../data/samples/student/oneArc/r055/oneArc_student_sample_05.csv\n",
      "../../data/samples/student/oneArc/r055/oneArc_student_sample_06.csv\n",
      "../../data/samples/student/oneArc/r055/oneArc_student_sample_07.csv\n",
      "../../data/samples/student/oneArc/r055/oneArc_student_sample_08.csv\n",
      "../../data/samples/student/oneArc/r055/oneArc_student_sample_09.csv\n",
      "../../data/samples/student/oneArc/r055/oneArc_student_sample_10.csv\n",
      "../../data/samples/student/oneArc/r06\n",
      "../../data/samples/student/oneArc/r06/oneArc_student_sample_01.csv\n",
      "../../data/samples/student/oneArc/r06/oneArc_student_sample_02.csv\n",
      "../../data/samples/student/oneArc/r06/oneArc_student_sample_03.csv\n",
      "../../data/samples/student/oneArc/r06/oneArc_student_sample_04.csv\n",
      "../../data/samples/student/oneArc/r06/oneArc_student_sample_05.csv\n",
      "../../data/samples/student/oneArc/r06/oneArc_student_sample_06.csv\n",
      "../../data/samples/student/oneArc/r06/oneArc_student_sample_07.csv\n",
      "../../data/samples/student/oneArc/r06/oneArc_student_sample_08.csv\n",
      "../../data/samples/student/oneArc/r06/oneArc_student_sample_09.csv\n",
      "../../data/samples/student/oneArc/r06/oneArc_student_sample_10.csv\n",
      "../../data/samples/student/oneArc/r065\n",
      "../../data/samples/student/oneArc/r065/oneArc_student_sample_01.csv\n",
      "../../data/samples/student/oneArc/r065/oneArc_student_sample_02.csv\n",
      "../../data/samples/student/oneArc/r065/oneArc_student_sample_03.csv\n",
      "../../data/samples/student/oneArc/r065/oneArc_student_sample_04.csv\n",
      "../../data/samples/student/oneArc/r065/oneArc_student_sample_05.csv\n",
      "../../data/samples/student/oneArc/r065/oneArc_student_sample_06.csv\n"
     ]
    },
    {
     "name": "stdout",
     "output_type": "stream",
     "text": [
      "../../data/samples/student/oneArc/r065/oneArc_student_sample_07.csv\n",
      "../../data/samples/student/oneArc/r065/oneArc_student_sample_08.csv\n",
      "../../data/samples/student/oneArc/r065/oneArc_student_sample_09.csv\n",
      "../../data/samples/student/oneArc/r065/oneArc_student_sample_10.csv\n",
      "../../data/samples/student/oneArc/r07\n",
      "../../data/samples/student/oneArc/r07/oneArc_student_sample_01.csv\n",
      "../../data/samples/student/oneArc/r07/oneArc_student_sample_02.csv\n",
      "../../data/samples/student/oneArc/r07/oneArc_student_sample_03.csv\n",
      "../../data/samples/student/oneArc/r07/oneArc_student_sample_04.csv\n",
      "../../data/samples/student/oneArc/r07/oneArc_student_sample_05.csv\n",
      "../../data/samples/student/oneArc/r07/oneArc_student_sample_06.csv\n",
      "../../data/samples/student/oneArc/r07/oneArc_student_sample_07.csv\n",
      "../../data/samples/student/oneArc/r07/oneArc_student_sample_08.csv\n",
      "../../data/samples/student/oneArc/r07/oneArc_student_sample_09.csv\n",
      "../../data/samples/student/oneArc/r07/oneArc_student_sample_10.csv\n",
      "../../data/samples/student/oneArc/r075\n",
      "../../data/samples/student/oneArc/r075/oneArc_student_sample_01.csv\n",
      "../../data/samples/student/oneArc/r075/oneArc_student_sample_02.csv\n",
      "../../data/samples/student/oneArc/r075/oneArc_student_sample_03.csv\n",
      "../../data/samples/student/oneArc/r075/oneArc_student_sample_04.csv\n",
      "../../data/samples/student/oneArc/r075/oneArc_student_sample_05.csv\n",
      "../../data/samples/student/oneArc/r075/oneArc_student_sample_06.csv\n",
      "../../data/samples/student/oneArc/r075/oneArc_student_sample_07.csv\n",
      "../../data/samples/student/oneArc/r075/oneArc_student_sample_08.csv\n",
      "../../data/samples/student/oneArc/r075/oneArc_student_sample_09.csv\n",
      "../../data/samples/student/oneArc/r075/oneArc_student_sample_10.csv\n",
      "../../data/samples/student/oneArc/r08\n",
      "../../data/samples/student/oneArc/r08/oneArc_student_sample_01.csv\n",
      "../../data/samples/student/oneArc/r08/oneArc_student_sample_02.csv\n",
      "../../data/samples/student/oneArc/r08/oneArc_student_sample_03.csv\n",
      "../../data/samples/student/oneArc/r08/oneArc_student_sample_04.csv\n",
      "../../data/samples/student/oneArc/r08/oneArc_student_sample_05.csv\n",
      "../../data/samples/student/oneArc/r08/oneArc_student_sample_06.csv\n",
      "../../data/samples/student/oneArc/r08/oneArc_student_sample_07.csv\n",
      "../../data/samples/student/oneArc/r08/oneArc_student_sample_08.csv\n",
      "../../data/samples/student/oneArc/r08/oneArc_student_sample_09.csv\n",
      "../../data/samples/student/oneArc/r08/oneArc_student_sample_10.csv\n",
      "../../data/samples/student/oneArc/r085\n",
      "../../data/samples/student/oneArc/r085/oneArc_student_sample_01.csv\n",
      "../../data/samples/student/oneArc/r085/oneArc_student_sample_02.csv\n",
      "../../data/samples/student/oneArc/r085/oneArc_student_sample_03.csv\n",
      "../../data/samples/student/oneArc/r085/oneArc_student_sample_04.csv\n",
      "../../data/samples/student/oneArc/r085/oneArc_student_sample_05.csv\n",
      "../../data/samples/student/oneArc/r085/oneArc_student_sample_06.csv\n",
      "../../data/samples/student/oneArc/r085/oneArc_student_sample_07.csv\n",
      "../../data/samples/student/oneArc/r085/oneArc_student_sample_08.csv\n",
      "../../data/samples/student/oneArc/r085/oneArc_student_sample_09.csv\n",
      "../../data/samples/student/oneArc/r085/oneArc_student_sample_10.csv\n",
      "../../data/samples/student/oneArc/r09\n",
      "../../data/samples/student/oneArc/r09/oneArc_student_sample_01.csv\n",
      "../../data/samples/student/oneArc/r09/oneArc_student_sample_02.csv\n",
      "../../data/samples/student/oneArc/r09/oneArc_student_sample_03.csv\n",
      "../../data/samples/student/oneArc/r09/oneArc_student_sample_04.csv\n",
      "../../data/samples/student/oneArc/r09/oneArc_student_sample_05.csv\n",
      "../../data/samples/student/oneArc/r09/oneArc_student_sample_06.csv\n",
      "../../data/samples/student/oneArc/r09/oneArc_student_sample_07.csv\n",
      "../../data/samples/student/oneArc/r09/oneArc_student_sample_08.csv\n",
      "../../data/samples/student/oneArc/r09/oneArc_student_sample_09.csv\n",
      "../../data/samples/student/oneArc/r09/oneArc_student_sample_10.csv\n",
      "../../data/samples/student/oneArc/r095\n",
      "../../data/samples/student/oneArc/r095/oneArc_student_sample_01.csv\n",
      "../../data/samples/student/oneArc/r095/oneArc_student_sample_02.csv\n",
      "../../data/samples/student/oneArc/r095/oneArc_student_sample_03.csv\n",
      "../../data/samples/student/oneArc/r095/oneArc_student_sample_04.csv\n",
      "../../data/samples/student/oneArc/r095/oneArc_student_sample_05.csv\n",
      "../../data/samples/student/oneArc/r095/oneArc_student_sample_06.csv\n",
      "../../data/samples/student/oneArc/r095/oneArc_student_sample_07.csv\n",
      "../../data/samples/student/oneArc/r095/oneArc_student_sample_08.csv\n",
      "../../data/samples/student/oneArc/r095/oneArc_student_sample_09.csv\n",
      "../../data/samples/student/oneArc/r095/oneArc_student_sample_10.csv\n"
     ]
    }
   ],
   "source": [
    "n_inARow = 100\n",
    "n_restart = 10\n",
    "\n",
    "fromSize = []\n",
    "for d in directories:\n",
    "    print(d)\n",
    "    files = [f for f in os.listdir(d) if path.isfile(path.join(d, f))]\n",
    "    files.sort()\n",
    "    files = [path.join(d, f) for f in files]\n",
    "    files = files[0:n_restart]\n",
    "    restarts = []\n",
    "    for f in files:\n",
    "        print(f)\n",
    "        #file = path.join(d, \"oneArc_gaussian_sample_01.csv\")\n",
    "        sample = ot.Sample.ImportFromTextFile(f, ',')\n",
    "\n",
    "        inARow = 0\n",
    "        for size in range(2, len(sample)):\n",
    "            test = ota.ContinuousTTest(sample[0:size])\n",
    "            #if size%100 == 0:\n",
    "            #    print(size)\n",
    "            #    print(test.isIndep(0,1,[]))\n",
    "            if test.isIndep(0,1,[])[2]:\n",
    "                inARow = 0\n",
    "            else:\n",
    "                inARow +=1\n",
    "                if inARow >= n_inARow:\n",
    "                    restarts.append(size-inARow+1)\n",
    "                    break\n",
    "    fromSize.append(restarts)"
   ]
  },
  {
   "cell_type": "code",
   "execution_count": 20,
   "metadata": {},
   "outputs": [],
   "source": [
    "mean = compute_means(fromSize)\n",
    "std = compute_stds(fromSize)"
   ]
  },
  {
   "cell_type": "code",
   "execution_count": 21,
   "metadata": {},
   "outputs": [
    {
     "data": {
      "image/png": "[encoded data removed]",
      "text/plain": [
       "<Figure size 432x288 with 1 Axes>"
      ]
     },
     "metadata": {
      "needs_background": "light"
     },
     "output_type": "display_data"
    }
   ],
   "source": [
    "plt.loglog(r_values, mean)\n",
    "#plot_error(r_values, mean, std)\n",
    "plt.show()"
   ]
  },
  {
   "cell_type": "code",
   "execution_count": 22,
   "metadata": {},
   "outputs": [],
   "source": [
    "reg = LinearRegression().fit(np.log(r_values.reshape(-1,1)), np.log(mean))"
   ]
  },
  {
   "cell_type": "code",
   "execution_count": 23,
   "metadata": {},
   "outputs": [
    {
     "name": "stdout",
     "output_type": "stream",
     "text": [
      "-1.6622527173178943 3.8007111664964377\n"
     ]
    }
   ],
   "source": [
    "a = reg.coef_[0][0]\n",
    "b = reg.intercept_[0]\n",
    "print(a,b)"
   ]
  },
  {
   "cell_type": "code",
   "execution_count": 24,
   "metadata": {},
   "outputs": [],
   "source": [
    "x = np.linspace(0.1,0.95,18)\n",
    "y = np.exp(b) * x**a"
   ]
  },
  {
   "cell_type": "code",
   "execution_count": 25,
   "metadata": {},
   "outputs": [
    {
     "data": {
      "image/png": "[encoded data removed]",
      "text/plain": [
       "<Figure size 432x288 with 1 Axes>"
      ]
     },
     "metadata": {
      "needs_background": "light"
     },
     "output_type": "display_data"
    }
   ],
   "source": [
    "plt.plot(x,y)\n",
    "plt.plot(r_values, mean)\n",
    "plt.show()"
   ]
  },
  {
   "cell_type": "code",
   "execution_count": null,
   "metadata": {},
   "outputs": [],
   "source": []
  },
  {
   "cell_type": "code",
   "execution_count": null,
   "metadata": {},
   "outputs": [],
   "source": []
  }
 ],
 "metadata": {
  "kernelspec": {
   "display_name": "Python 3",
   "language": "python",
   "name": "python3"
  },
  "language_info": {
   "codemirror_mode": {
    "name": "ipython",
    "version": 3
   },
   "file_extension": ".py",
   "mimetype": "text/x-python",
   "name": "python",
   "nbconvert_exporter": "python",
   "pygments_lexer": "ipython3",
   "version": "3.7.4"
  }
 },
 "nbformat": 4,
 "nbformat_minor": 2
}
