{
 "cells": [
  {
   "cell_type": "code",
   "execution_count": 7,
   "metadata": {},
   "outputs": [],
   "source": [
    "import pyAgrum.lib.notebook as gnb\n",
    "import pyAgrum as gum\n",
    "import otagrum as otagr\n",
    "import openturns as ot\n",
    "import os\n",
    "import os.path as path\n",
    "import sys\n",
    "import time\n",
    "import numpy as np\n",
    "import matplotlib.pyplot as plt\n",
    "import random as rnd\n",
    "sys.path.append('..')\n",
    "import hill_climbing as hc\n",
    "import score as sc\n",
    "import utils as ut\n",
    "\n",
    "import matplotlib as mpl\n",
    "mpl.rc('text', usetex=True)\n",
    "mpl.rc('font', family='serif')"
   ]
  },
  {
   "cell_type": "code",
   "execution_count": 8,
   "metadata": {},
   "outputs": [],
   "source": [
    "generator = gum.BNGenerator()"
   ]
  },
  {
   "cell_type": "code",
   "execution_count": 9,
   "metadata": {
    "scrolled": true
   },
   "outputs": [
    {
     "name": "stdout",
     "output_type": "stream",
     "text": [
      "Number of node : 2\n"
     ]
    },
    {
     "data": {
      "text/html": [
       "<table style=\"border-style: hidden; border-collapse: collapse;\" width=\"100%\"><tr><td style=\"border-top:hidden;border-bottom:hidden;\"><div align=\"center\" style=\"\"><svg height=\"116pt\" viewBox=\"0.00 0.00 62.00 116.00\" width=\"62pt\" xmlns=\"http://www.w3.org/2000/svg\" xmlns:xlink=\"http://www.w3.org/1999/xlink\">\n",
       "<g class=\"graph\" id=\"graph0\" transform=\"scale(1 1) rotate(0) translate(4 112)\">\n",
       "<title>G</title>\n",
       "<!-- n_0 -->\n",
       "<g class=\"node\" id=\"node1\">\n",
       "<title>n_0</title>\n",
       "<g id=\"a_node1\"><a xlink:title=\"(0) n_0\">\n",
       "<ellipse cx=\"27\" cy=\"-18\" fill=\"#404040\" rx=\"27\" ry=\"18\" stroke=\"#000000\"/>\n",
       "<text fill=\"#ffffff\" font-family=\"Times,serif\" font-size=\"14.00\" text-anchor=\"middle\" x=\"27\" y=\"-14.3\">n_0</text>\n",
       "</a>\n",
       "</g>\n",
       "</g>\n",
       "<!-- n_1 -->\n",
       "<g class=\"node\" id=\"node2\">\n",
       "<title>n_1</title>\n",
       "<g id=\"a_node2\"><a xlink:title=\"(1) n_1\">\n",
       "<ellipse cx=\"27\" cy=\"-90\" fill=\"#404040\" rx=\"27\" ry=\"18\" stroke=\"#000000\"/>\n",
       "<text fill=\"#ffffff\" font-family=\"Times,serif\" font-size=\"14.00\" text-anchor=\"middle\" x=\"27\" y=\"-86.3\">n_1</text>\n",
       "</a>\n",
       "</g>\n",
       "</g>\n",
       "<!-- n_1&#45;&gt;n_0 -->\n",
       "<g class=\"edge\" id=\"edge1\">\n",
       "<title>n_1-&gt;n_0</title>\n",
       "<g id=\"a_edge1\"><a xlink:title=\"(1, 0) : \">\n",
       "<path d=\"M27,-71.8314C27,-64.131 27,-54.9743 27,-46.4166\" fill=\"none\" stroke=\"#4a4a4a\"/>\n",
       "<polygon fill=\"#4a4a4a\" points=\"30.5001,-46.4132 27,-36.4133 23.5001,-46.4133 30.5001,-46.4132\" stroke=\"#4a4a4a\"/>\n",
       "</a>\n",
       "</g>\n",
       "</g>\n",
       "</g>\n",
       "</svg></div></td><td style=\"border-top:hidden;border-bottom:hidden;\"><div align=\"center\" style=\"\"><svg height=\"116pt\" viewBox=\"0.00 0.00 62.00 116.00\" width=\"62pt\" xmlns=\"http://www.w3.org/2000/svg\" xmlns:xlink=\"http://www.w3.org/1999/xlink\">\n",
       "<g class=\"graph\" id=\"graph0\" transform=\"scale(1 1) rotate(0) translate(4 112)\">\n",
       "<title>G</title>\n",
       "<!-- n_0 -->\n",
       "<g class=\"node\" id=\"node1\">\n",
       "<title>n_0</title>\n",
       "<g id=\"a_node1\"><a xlink:title=\"(0) n_0\">\n",
       "<ellipse cx=\"27\" cy=\"-90\" fill=\"#404040\" rx=\"27\" ry=\"18\" stroke=\"#000000\"/>\n",
       "<text fill=\"#ffffff\" font-family=\"Times,serif\" font-size=\"14.00\" text-anchor=\"middle\" x=\"27\" y=\"-86.3\">n_0</text>\n",
       "</a>\n",
       "</g>\n",
       "</g>\n",
       "<!-- n_1 -->\n",
       "<g class=\"node\" id=\"node2\">\n",
       "<title>n_1</title>\n",
       "<g id=\"a_node2\"><a xlink:title=\"(1) n_1\">\n",
       "<ellipse cx=\"27\" cy=\"-18\" fill=\"#404040\" rx=\"27\" ry=\"18\" stroke=\"#000000\"/>\n",
       "<text fill=\"#ffffff\" font-family=\"Times,serif\" font-size=\"14.00\" text-anchor=\"middle\" x=\"27\" y=\"-14.3\">n_1</text>\n",
       "</a>\n",
       "</g>\n",
       "</g>\n",
       "<!-- n_0&#45;&gt;n_1 -->\n",
       "<g class=\"edge\" id=\"edge1\">\n",
       "<title>n_0-&gt;n_1</title>\n",
       "<g id=\"a_edge1\"><a xlink:title=\"(0, 1) : \">\n",
       "<path d=\"M27,-71.8314C27,-64.131 27,-54.9743 27,-46.4166\" fill=\"none\" stroke=\"#4a4a4a\"/>\n",
       "<polygon fill=\"#4a4a4a\" points=\"30.5001,-46.4132 27,-36.4133 23.5001,-46.4133 30.5001,-46.4132\" stroke=\"#4a4a4a\"/>\n",
       "</a>\n",
       "</g>\n",
       "</g>\n",
       "</g>\n",
       "</svg></div></td></tr><tr><td style=\"border-top:hidden;border-bottom:hidden;\"><div align=\"center\"><small>True</small></div></td><td style=\"border-top:hidden;border-bottom:hidden;\"><div align=\"center\"><small>Learned</small></div></td></tr></table>"
      ],
      "text/plain": [
       "<IPython.core.display.HTML object>"
      ]
     },
     "metadata": {},
     "output_type": "display_data"
    },
    {
     "data": {
      "text/html": [
       "<table style=\"border-style: hidden; border-collapse: collapse;\" width=\"100%\"><tr><td style=\"border-top:hidden;border-bottom:hidden;\"><div align=\"center\" style=\"\"><svg height=\"116pt\" viewBox=\"0.00 0.00 62.00 116.00\" width=\"62pt\" xmlns=\"http://www.w3.org/2000/svg\" xmlns:xlink=\"http://www.w3.org/1999/xlink\">\n",
       "<g class=\"graph\" id=\"graph0\" transform=\"scale(1 1) rotate(0) translate(4 112)\">\n",
       "<title>G</title>\n",
       "<!-- n_0 -->\n",
       "<g class=\"node\" id=\"node1\">\n",
       "<title>n_0</title>\n",
       "<g id=\"a_node1\"><a xlink:title=\"(0) n_0\">\n",
       "<ellipse cx=\"27\" cy=\"-18\" fill=\"#404040\" rx=\"27\" ry=\"18\" stroke=\"#000000\"/>\n",
       "<text fill=\"#ffffff\" font-family=\"Times,serif\" font-size=\"14.00\" text-anchor=\"middle\" x=\"27\" y=\"-14.3\">n_0</text>\n",
       "</a>\n",
       "</g>\n",
       "</g>\n",
       "<!-- n_1 -->\n",
       "<g class=\"node\" id=\"node2\">\n",
       "<title>n_1</title>\n",
       "<g id=\"a_node2\"><a xlink:title=\"(1) n_1\">\n",
       "<ellipse cx=\"27\" cy=\"-90\" fill=\"#404040\" rx=\"27\" ry=\"18\" stroke=\"#000000\"/>\n",
       "<text fill=\"#ffffff\" font-family=\"Times,serif\" font-size=\"14.00\" text-anchor=\"middle\" x=\"27\" y=\"-86.3\">n_1</text>\n",
       "</a>\n",
       "</g>\n",
       "</g>\n",
       "<!-- n_1&#45;&gt;n_0 -->\n",
       "<g class=\"edge\" id=\"edge1\">\n",
       "<title>n_1-&gt;n_0</title>\n",
       "<g id=\"a_edge1\"><a xlink:title=\"(1, 0) : \">\n",
       "<path d=\"M27,-71.8314C27,-64.131 27,-54.9743 27,-46.4166\" fill=\"none\" stroke=\"#4a4a4a\"/>\n",
       "<polygon fill=\"#4a4a4a\" points=\"30.5001,-46.4132 27,-36.4133 23.5001,-46.4133 30.5001,-46.4132\" stroke=\"#4a4a4a\"/>\n",
       "</a>\n",
       "</g>\n",
       "</g>\n",
       "</g>\n",
       "</svg></div></td><td style=\"border-top:hidden;border-bottom:hidden;\"><div align=\"center\" style=\"\"><svg height=\"116pt\" viewBox=\"0.00 0.00 62.00 116.00\" width=\"62pt\" xmlns=\"http://www.w3.org/2000/svg\" xmlns:xlink=\"http://www.w3.org/1999/xlink\">\n",
       "<g class=\"graph\" id=\"graph0\" transform=\"scale(1 1) rotate(0) translate(4 112)\">\n",
       "<title>G</title>\n",
       "<!-- n_0 -->\n",
       "<g class=\"node\" id=\"node1\">\n",
       "<title>n_0</title>\n",
       "<g id=\"a_node1\"><a xlink:title=\"(0) n_0\">\n",
       "<ellipse cx=\"27\" cy=\"-90\" fill=\"#404040\" rx=\"27\" ry=\"18\" stroke=\"#000000\"/>\n",
       "<text fill=\"#ffffff\" font-family=\"Times,serif\" font-size=\"14.00\" text-anchor=\"middle\" x=\"27\" y=\"-86.3\">n_0</text>\n",
       "</a>\n",
       "</g>\n",
       "</g>\n",
       "<!-- n_1 -->\n",
       "<g class=\"node\" id=\"node2\">\n",
       "<title>n_1</title>\n",
       "<g id=\"a_node2\"><a xlink:title=\"(1) n_1\">\n",
       "<ellipse cx=\"27\" cy=\"-18\" fill=\"#404040\" rx=\"27\" ry=\"18\" stroke=\"#000000\"/>\n",
       "<text fill=\"#ffffff\" font-family=\"Times,serif\" font-size=\"14.00\" text-anchor=\"middle\" x=\"27\" y=\"-14.3\">n_1</text>\n",
       "</a>\n",
       "</g>\n",
       "</g>\n",
       "<!-- n_0&#45;&gt;n_1 -->\n",
       "<g class=\"edge\" id=\"edge1\">\n",
       "<title>n_0-&gt;n_1</title>\n",
       "<g id=\"a_edge1\"><a xlink:title=\"(0, 1) : \">\n",
       "<path d=\"M27,-71.8314C27,-64.131 27,-54.9743 27,-46.4166\" fill=\"none\" stroke=\"#4a4a4a\"/>\n",
       "<polygon fill=\"#4a4a4a\" points=\"30.5001,-46.4132 27,-36.4133 23.5001,-46.4133 30.5001,-46.4132\" stroke=\"#4a4a4a\"/>\n",
       "</a>\n",
       "</g>\n",
       "</g>\n",
       "</g>\n",
       "</svg></div></td></tr><tr><td style=\"border-top:hidden;border-bottom:hidden;\"><div align=\"center\"><small>True</small></div></td><td style=\"border-top:hidden;border-bottom:hidden;\"><div align=\"center\"><small>Learned</small></div></td></tr></table>"
      ],
      "text/plain": [
       "<IPython.core.display.HTML object>"
      ]
     },
     "metadata": {},
     "output_type": "display_data"
    },
    {
     "name": "stdout",
     "output_type": "stream",
     "text": [
      "CPC scores:  ([[0.0]], [[0.0]], [[0.0]])\n",
      "Elidan scores:  ([[0.0]], [[0.0]], [[0.0]])\n",
      "\n",
      "\n",
      "Number of node : 3\n"
     ]
    },
    {
     "data": {
      "text/html": [
       "<table style=\"border-style: hidden; border-collapse: collapse;\" width=\"100%\"><tr><td style=\"border-top:hidden;border-bottom:hidden;\"><div align=\"center\" style=\"\"><svg height=\"116pt\" viewBox=\"0.00 0.00 134.00 116.00\" width=\"134pt\" xmlns=\"http://www.w3.org/2000/svg\" xmlns:xlink=\"http://www.w3.org/1999/xlink\">\n",
       "<g class=\"graph\" id=\"graph0\" transform=\"scale(1 1) rotate(0) translate(4 112)\">\n",
       "<title>G</title>\n",
       "<!-- n_0 -->\n",
       "<g class=\"node\" id=\"node1\">\n",
       "<title>n_0</title>\n",
       "<g id=\"a_node1\"><a xlink:title=\"(0) n_0\">\n",
       "<ellipse cx=\"27\" cy=\"-18\" fill=\"#404040\" rx=\"27\" ry=\"18\" stroke=\"#000000\"/>\n",
       "<text fill=\"#ffffff\" font-family=\"Times,serif\" font-size=\"14.00\" text-anchor=\"middle\" x=\"27\" y=\"-14.3\">n_0</text>\n",
       "</a>\n",
       "</g>\n",
       "</g>\n",
       "<!-- n_1 -->\n",
       "<g class=\"node\" id=\"node2\">\n",
       "<title>n_1</title>\n",
       "<g id=\"a_node2\"><a xlink:title=\"(1) n_1\">\n",
       "<ellipse cx=\"99\" cy=\"-18\" fill=\"#404040\" rx=\"27\" ry=\"18\" stroke=\"#000000\"/>\n",
       "<text fill=\"#ffffff\" font-family=\"Times,serif\" font-size=\"14.00\" text-anchor=\"middle\" x=\"99\" y=\"-14.3\">n_1</text>\n",
       "</a>\n",
       "</g>\n",
       "</g>\n",
       "<!-- n_2 -->\n",
       "<g class=\"node\" id=\"node3\">\n",
       "<title>n_2</title>\n",
       "<g id=\"a_node3\"><a xlink:title=\"(2) n_2\">\n",
       "<ellipse cx=\"63\" cy=\"-90\" fill=\"#404040\" rx=\"27\" ry=\"18\" stroke=\"#000000\"/>\n",
       "<text fill=\"#ffffff\" font-family=\"Times,serif\" font-size=\"14.00\" text-anchor=\"middle\" x=\"63\" y=\"-86.3\">n_2</text>\n",
       "</a>\n",
       "</g>\n",
       "</g>\n",
       "<!-- n_2&#45;&gt;n_0 -->\n",
       "<g class=\"edge\" id=\"edge1\">\n",
       "<title>n_2-&gt;n_0</title>\n",
       "<g id=\"a_edge1\"><a xlink:title=\"(2, 0) : \">\n",
       "<path d=\"M54.2854,-72.5708C50.0403,-64.0807 44.8464,-53.6929 40.1337,-44.2674\" fill=\"none\" stroke=\"#4a4a4a\"/>\n",
       "<polygon fill=\"#4a4a4a\" points=\"43.237,-42.6477 35.6343,-35.2687 36.976,-45.7782 43.237,-42.6477\" stroke=\"#4a4a4a\"/>\n",
       "</a>\n",
       "</g>\n",
       "</g>\n",
       "<!-- n_2&#45;&gt;n_1 -->\n",
       "<g class=\"edge\" id=\"edge2\">\n",
       "<title>n_2-&gt;n_1</title>\n",
       "<g id=\"a_edge2\"><a xlink:title=\"(2, 1) : \">\n",
       "<path d=\"M71.7146,-72.5708C75.9597,-64.0807 81.1536,-53.6929 85.8663,-44.2674\" fill=\"none\" stroke=\"#4a4a4a\"/>\n",
       "<polygon fill=\"#4a4a4a\" points=\"89.024,-45.7782 90.3657,-35.2687 82.763,-42.6477 89.024,-45.7782\" stroke=\"#4a4a4a\"/>\n",
       "</a>\n",
       "</g>\n",
       "</g>\n",
       "</g>\n",
       "</svg></div></td><td style=\"border-top:hidden;border-bottom:hidden;\"><div align=\"center\" style=\"\"><svg height=\"188pt\" viewBox=\"0.00 0.00 90.00 188.00\" width=\"90pt\" xmlns=\"http://www.w3.org/2000/svg\" xmlns:xlink=\"http://www.w3.org/1999/xlink\">\n",
       "<g class=\"graph\" id=\"graph0\" transform=\"scale(1 1) rotate(0) translate(4 184)\">\n",
       "<title>G</title>\n",
       "<!-- n_0 -->\n",
       "<g class=\"node\" id=\"node1\">\n",
       "<title>n_0</title>\n",
       "<g id=\"a_node1\"><a xlink:title=\"(0) n_0\">\n",
       "<ellipse cx=\"27\" cy=\"-162\" fill=\"#404040\" rx=\"27\" ry=\"18\" stroke=\"#000000\"/>\n",
       "<text fill=\"#ffffff\" font-family=\"Times,serif\" font-size=\"14.00\" text-anchor=\"middle\" x=\"27\" y=\"-158.3\">n_0</text>\n",
       "</a>\n",
       "</g>\n",
       "</g>\n",
       "<!-- n_1 -->\n",
       "<g class=\"node\" id=\"node2\">\n",
       "<title>n_1</title>\n",
       "<g id=\"a_node2\"><a xlink:title=\"(1) n_1\">\n",
       "<ellipse cx=\"27\" cy=\"-18\" fill=\"#404040\" rx=\"27\" ry=\"18\" stroke=\"#000000\"/>\n",
       "<text fill=\"#ffffff\" font-family=\"Times,serif\" font-size=\"14.00\" text-anchor=\"middle\" x=\"27\" y=\"-14.3\">n_1</text>\n",
       "</a>\n",
       "</g>\n",
       "</g>\n",
       "<!-- n_0&#45;&gt;n_1 -->\n",
       "<g class=\"edge\" id=\"edge1\">\n",
       "<title>n_0-&gt;n_1</title>\n",
       "<g id=\"a_edge1\"><a xlink:title=\"(0, 1) : \">\n",
       "<path d=\"M23.6685,-144.0736C21.8913,-133.5982 19.8913,-120.0982 19,-108 17.8244,-92.0432 17.8244,-87.9568 19,-72 19.6267,-63.4935 20.8015,-54.2939 22.0616,-45.9399\" fill=\"none\" stroke=\"#4a4a4a\"/>\n",
       "<polygon fill=\"#4a4a4a\" points=\"25.5398,-46.3546 23.6685,-35.9264 18.6282,-45.2455 25.5398,-46.3546\" stroke=\"#4a4a4a\"/>\n",
       "</a>\n",
       "</g>\n",
       "</g>\n",
       "<!-- n_2 -->\n",
       "<g class=\"node\" id=\"node3\">\n",
       "<title>n_2</title>\n",
       "<g id=\"a_node3\"><a xlink:title=\"(2) n_2\">\n",
       "<ellipse cx=\"55\" cy=\"-90\" fill=\"#404040\" rx=\"27\" ry=\"18\" stroke=\"#000000\"/>\n",
       "<text fill=\"#ffffff\" font-family=\"Times,serif\" font-size=\"14.00\" text-anchor=\"middle\" x=\"55\" y=\"-86.3\">n_2</text>\n",
       "</a>\n",
       "</g>\n",
       "</g>\n",
       "<!-- n_0&#45;&gt;n_2 -->\n",
       "<g class=\"edge\" id=\"edge2\">\n",
       "<title>n_0-&gt;n_2</title>\n",
       "<g id=\"a_edge2\"><a xlink:title=\"(0, 2) : \">\n",
       "<path d=\"M33.778,-144.5708C36.9872,-136.3187 40.8935,-126.2738 44.4758,-117.0623\" fill=\"none\" stroke=\"#4a4a4a\"/>\n",
       "<polygon fill=\"#4a4a4a\" points=\"47.8248,-118.1069 48.1874,-107.5182 41.3008,-115.5697 47.8248,-118.1069\" stroke=\"#4a4a4a\"/>\n",
       "</a>\n",
       "</g>\n",
       "</g>\n",
       "<!-- n_2&#45;&gt;n_1 -->\n",
       "<g class=\"edge\" id=\"edge3\">\n",
       "<title>n_2-&gt;n_1</title>\n",
       "<g id=\"a_edge3\"><a xlink:title=\"(2, 1) : \">\n",
       "<path d=\"M48.222,-72.5708C45.0128,-64.3187 41.1065,-54.2738 37.5242,-45.0623\" fill=\"none\" stroke=\"#4a4a4a\"/>\n",
       "<polygon fill=\"#4a4a4a\" points=\"40.6992,-43.5697 33.8126,-35.5182 34.1752,-46.1069 40.6992,-43.5697\" stroke=\"#4a4a4a\"/>\n",
       "</a>\n",
       "</g>\n",
       "</g>\n",
       "</g>\n",
       "</svg></div></td></tr><tr><td style=\"border-top:hidden;border-bottom:hidden;\"><div align=\"center\"><small>True</small></div></td><td style=\"border-top:hidden;border-bottom:hidden;\"><div align=\"center\"><small>Learned</small></div></td></tr></table>"
      ],
      "text/plain": [
       "<IPython.core.display.HTML object>"
      ]
     },
     "metadata": {},
     "output_type": "display_data"
    },
    {
     "data": {
      "text/html": [
       "<table style=\"border-style: hidden; border-collapse: collapse;\" width=\"100%\"><tr><td style=\"border-top:hidden;border-bottom:hidden;\"><div align=\"center\" style=\"\"><svg height=\"116pt\" viewBox=\"0.00 0.00 134.00 116.00\" width=\"134pt\" xmlns=\"http://www.w3.org/2000/svg\" xmlns:xlink=\"http://www.w3.org/1999/xlink\">\n",
       "<g class=\"graph\" id=\"graph0\" transform=\"scale(1 1) rotate(0) translate(4 112)\">\n",
       "<title>G</title>\n",
       "<!-- n_0 -->\n",
       "<g class=\"node\" id=\"node1\">\n",
       "<title>n_0</title>\n",
       "<g id=\"a_node1\"><a xlink:title=\"(0) n_0\">\n",
       "<ellipse cx=\"27\" cy=\"-18\" fill=\"#404040\" rx=\"27\" ry=\"18\" stroke=\"#000000\"/>\n",
       "<text fill=\"#ffffff\" font-family=\"Times,serif\" font-size=\"14.00\" text-anchor=\"middle\" x=\"27\" y=\"-14.3\">n_0</text>\n",
       "</a>\n",
       "</g>\n",
       "</g>\n",
       "<!-- n_1 -->\n",
       "<g class=\"node\" id=\"node2\">\n",
       "<title>n_1</title>\n",
       "<g id=\"a_node2\"><a xlink:title=\"(1) n_1\">\n",
       "<ellipse cx=\"99\" cy=\"-18\" fill=\"#404040\" rx=\"27\" ry=\"18\" stroke=\"#000000\"/>\n",
       "<text fill=\"#ffffff\" font-family=\"Times,serif\" font-size=\"14.00\" text-anchor=\"middle\" x=\"99\" y=\"-14.3\">n_1</text>\n",
       "</a>\n",
       "</g>\n",
       "</g>\n",
       "<!-- n_2 -->\n",
       "<g class=\"node\" id=\"node3\">\n",
       "<title>n_2</title>\n",
       "<g id=\"a_node3\"><a xlink:title=\"(2) n_2\">\n",
       "<ellipse cx=\"63\" cy=\"-90\" fill=\"#404040\" rx=\"27\" ry=\"18\" stroke=\"#000000\"/>\n",
       "<text fill=\"#ffffff\" font-family=\"Times,serif\" font-size=\"14.00\" text-anchor=\"middle\" x=\"63\" y=\"-86.3\">n_2</text>\n",
       "</a>\n",
       "</g>\n",
       "</g>\n",
       "<!-- n_2&#45;&gt;n_0 -->\n",
       "<g class=\"edge\" id=\"edge1\">\n",
       "<title>n_2-&gt;n_0</title>\n",
       "<g id=\"a_edge1\"><a xlink:title=\"(2, 0) : \">\n",
       "<path d=\"M54.2854,-72.5708C50.0403,-64.0807 44.8464,-53.6929 40.1337,-44.2674\" fill=\"none\" stroke=\"#4a4a4a\"/>\n",
       "<polygon fill=\"#4a4a4a\" points=\"43.237,-42.6477 35.6343,-35.2687 36.976,-45.7782 43.237,-42.6477\" stroke=\"#4a4a4a\"/>\n",
       "</a>\n",
       "</g>\n",
       "</g>\n",
       "<!-- n_2&#45;&gt;n_1 -->\n",
       "<g class=\"edge\" id=\"edge2\">\n",
       "<title>n_2-&gt;n_1</title>\n",
       "<g id=\"a_edge2\"><a xlink:title=\"(2, 1) : \">\n",
       "<path d=\"M71.7146,-72.5708C75.9597,-64.0807 81.1536,-53.6929 85.8663,-44.2674\" fill=\"none\" stroke=\"#4a4a4a\"/>\n",
       "<polygon fill=\"#4a4a4a\" points=\"89.024,-45.7782 90.3657,-35.2687 82.763,-42.6477 89.024,-45.7782\" stroke=\"#4a4a4a\"/>\n",
       "</a>\n",
       "</g>\n",
       "</g>\n",
       "</g>\n",
       "</svg></div></td><td style=\"border-top:hidden;border-bottom:hidden;\"><div align=\"center\" style=\"\"><svg height=\"188pt\" viewBox=\"0.00 0.00 62.00 188.00\" width=\"62pt\" xmlns=\"http://www.w3.org/2000/svg\" xmlns:xlink=\"http://www.w3.org/1999/xlink\">\n",
       "<g class=\"graph\" id=\"graph0\" transform=\"scale(1 1) rotate(0) translate(4 184)\">\n",
       "<title>G</title>\n",
       "<!-- n_0 -->\n",
       "<g class=\"node\" id=\"node1\">\n",
       "<title>n_0</title>\n",
       "<g id=\"a_node1\"><a xlink:title=\"(0) n_0\">\n",
       "<ellipse cx=\"27\" cy=\"-162\" fill=\"#404040\" rx=\"27\" ry=\"18\" stroke=\"#000000\"/>\n",
       "<text fill=\"#ffffff\" font-family=\"Times,serif\" font-size=\"14.00\" text-anchor=\"middle\" x=\"27\" y=\"-158.3\">n_0</text>\n",
       "</a>\n",
       "</g>\n",
       "</g>\n",
       "<!-- n_2 -->\n",
       "<g class=\"node\" id=\"node3\">\n",
       "<title>n_2</title>\n",
       "<g id=\"a_node3\"><a xlink:title=\"(2) n_2\">\n",
       "<ellipse cx=\"27\" cy=\"-90\" fill=\"#404040\" rx=\"27\" ry=\"18\" stroke=\"#000000\"/>\n",
       "<text fill=\"#ffffff\" font-family=\"Times,serif\" font-size=\"14.00\" text-anchor=\"middle\" x=\"27\" y=\"-86.3\">n_2</text>\n",
       "</a>\n",
       "</g>\n",
       "</g>\n",
       "<!-- n_0&#45;&gt;n_2 -->\n",
       "<g class=\"edge\" id=\"edge1\">\n",
       "<title>n_0-&gt;n_2</title>\n",
       "<g id=\"a_edge1\"><a xlink:title=\"(0, 2) : \">\n",
       "<path d=\"M27,-143.8314C27,-136.131 27,-126.9743 27,-118.4166\" fill=\"none\" stroke=\"#4a4a4a\"/>\n",
       "<polygon fill=\"#4a4a4a\" points=\"30.5001,-118.4132 27,-108.4133 23.5001,-118.4133 30.5001,-118.4132\" stroke=\"#4a4a4a\"/>\n",
       "</a>\n",
       "</g>\n",
       "</g>\n",
       "<!-- n_1 -->\n",
       "<g class=\"node\" id=\"node2\">\n",
       "<title>n_1</title>\n",
       "<g id=\"a_node2\"><a xlink:title=\"(1) n_1\">\n",
       "<ellipse cx=\"27\" cy=\"-18\" fill=\"#404040\" rx=\"27\" ry=\"18\" stroke=\"#000000\"/>\n",
       "<text fill=\"#ffffff\" font-family=\"Times,serif\" font-size=\"14.00\" text-anchor=\"middle\" x=\"27\" y=\"-14.3\">n_1</text>\n",
       "</a>\n",
       "</g>\n",
       "</g>\n",
       "<!-- n_2&#45;&gt;n_1 -->\n",
       "<g class=\"edge\" id=\"edge2\">\n",
       "<title>n_2-&gt;n_1</title>\n",
       "<g id=\"a_edge2\"><a xlink:title=\"(2, 1) : \">\n",
       "<path d=\"M27,-71.8314C27,-64.131 27,-54.9743 27,-46.4166\" fill=\"none\" stroke=\"#4a4a4a\"/>\n",
       "<polygon fill=\"#4a4a4a\" points=\"30.5001,-46.4132 27,-36.4133 23.5001,-46.4133 30.5001,-46.4132\" stroke=\"#4a4a4a\"/>\n",
       "</a>\n",
       "</g>\n",
       "</g>\n",
       "</g>\n",
       "</svg></div></td></tr><tr><td style=\"border-top:hidden;border-bottom:hidden;\"><div align=\"center\"><small>True</small></div></td><td style=\"border-top:hidden;border-bottom:hidden;\"><div align=\"center\"><small>Learned</small></div></td></tr></table>"
      ],
      "text/plain": [
       "<IPython.core.display.HTML object>"
      ]
     },
     "metadata": {},
     "output_type": "display_data"
    },
    {
     "name": "stdout",
     "output_type": "stream",
     "text": [
      "CPC scores:  ([[0.3333333333333333]], [[0.5]], [[0.4]])\n",
      "Elidan scores:  ([[0.5]], [[0.5]], [[0.5]])\n",
      "\n",
      "\n",
      "Number of node : 4\n"
     ]
    },
    {
     "ename": "KeyboardInterrupt",
     "evalue": "",
     "output_type": "error",
     "traceback": [
      "\u001b[0;31m---------------------------------------------------------------------------\u001b[0m",
      "\u001b[0;31mKeyboardInterrupt\u001b[0m                         Traceback (most recent call last)",
      "\u001b[0;32m<ipython-input-9-6a2afb592ece>\u001b[0m in \u001b[0;36m<module>\u001b[0;34m\u001b[0m\n\u001b[1;32m     16\u001b[0m     \u001b[0mlearner\u001b[0m \u001b[0;34m=\u001b[0m \u001b[0motagr\u001b[0m\u001b[0;34m.\u001b[0m\u001b[0mContinuousPC\u001b[0m\u001b[0;34m(\u001b[0m\u001b[0mdata\u001b[0m\u001b[0;34m,\u001b[0m \u001b[0;36m5\u001b[0m\u001b[0;34m,\u001b[0m \u001b[0;36m0.05\u001b[0m\u001b[0;34m)\u001b[0m\u001b[0;34m\u001b[0m\u001b[0;34m\u001b[0m\u001b[0m\n\u001b[1;32m     17\u001b[0m     \u001b[0mstart\u001b[0m \u001b[0;34m=\u001b[0m \u001b[0mtime\u001b[0m\u001b[0;34m.\u001b[0m\u001b[0mtime\u001b[0m\u001b[0;34m(\u001b[0m\u001b[0;34m)\u001b[0m\u001b[0;34m\u001b[0m\u001b[0;34m\u001b[0m\u001b[0m\n\u001b[0;32m---> 18\u001b[0;31m     \u001b[0mLNdagCPC\u001b[0m \u001b[0;34m=\u001b[0m \u001b[0mlearner\u001b[0m\u001b[0;34m.\u001b[0m\u001b[0mlearnDAG\u001b[0m\u001b[0;34m(\u001b[0m\u001b[0;34m)\u001b[0m\u001b[0;34m\u001b[0m\u001b[0;34m\u001b[0m\u001b[0m\n\u001b[0m\u001b[1;32m     19\u001b[0m     \u001b[0mend\u001b[0m \u001b[0;34m=\u001b[0m \u001b[0mtime\u001b[0m\u001b[0;34m.\u001b[0m\u001b[0mtime\u001b[0m\u001b[0;34m(\u001b[0m\u001b[0;34m)\u001b[0m\u001b[0;34m\u001b[0m\u001b[0;34m\u001b[0m\u001b[0m\n\u001b[1;32m     20\u001b[0m \u001b[0;34m\u001b[0m\u001b[0m\n",
      "\u001b[0;32m~/.venvs/otagrum/lib/python3.7/site-packages/otagrum/otagrum.py\u001b[0m in \u001b[0;36mlearnDAG\u001b[0;34m(self)\u001b[0m\n\u001b[1;32m   1733\u001b[0m \u001b[0;34m\u001b[0m\u001b[0m\n\u001b[1;32m   1734\u001b[0m     \u001b[0;32mdef\u001b[0m \u001b[0mlearnDAG\u001b[0m\u001b[0;34m(\u001b[0m\u001b[0mself\u001b[0m\u001b[0;34m)\u001b[0m\u001b[0;34m:\u001b[0m\u001b[0;34m\u001b[0m\u001b[0;34m\u001b[0m\u001b[0m\n\u001b[0;32m-> 1735\u001b[0;31m         \u001b[0;32mreturn\u001b[0m \u001b[0m_otagrum\u001b[0m\u001b[0;34m.\u001b[0m\u001b[0mContinuousPC_learnDAG\u001b[0m\u001b[0;34m(\u001b[0m\u001b[0mself\u001b[0m\u001b[0;34m)\u001b[0m\u001b[0;34m\u001b[0m\u001b[0;34m\u001b[0m\u001b[0m\n\u001b[0m\u001b[1;32m   1736\u001b[0m \u001b[0;34m\u001b[0m\u001b[0m\n\u001b[1;32m   1737\u001b[0m     \u001b[0;32mdef\u001b[0m \u001b[0msetVerbosity\u001b[0m\u001b[0;34m(\u001b[0m\u001b[0mself\u001b[0m\u001b[0;34m,\u001b[0m \u001b[0mverbose\u001b[0m\u001b[0;34m)\u001b[0m\u001b[0;34m:\u001b[0m\u001b[0;34m\u001b[0m\u001b[0;34m\u001b[0m\u001b[0m\n",
      "\u001b[0;31mKeyboardInterrupt\u001b[0m: "
     ]
    }
   ],
   "source": [
    "gum.initRandom()\n",
    "\n",
    "n_nodes=[]\n",
    "times_cpc=[]\n",
    "times_elidan=[]\n",
    "for i in range(2, 21):\n",
    "    print(\"Number of node :\", i, flush=True)\n",
    "    \n",
    "    n_nodes.append(i)\n",
    "    n_arc = int(1.2*(i-1) )\n",
    "    bn = generator.generate(i, n_arc)\n",
    "    TNdag = otagr.NamedDAG(bn.dag(), bn.names())\n",
    "    \n",
    "    data = ut.generate_gaussian_data(TNdag, 30000, 0.8)\n",
    "    \n",
    "    learner = otagr.ContinuousPC(data, 5, 0.05)\n",
    "    start = time.time()\n",
    "    LNdagCPC = learner.learnDAG()\n",
    "    end = time.time()\n",
    "    \n",
    "    LNdagCPC = [[ut.named_dag_to_bn(LNdagCPC)]]\n",
    "    times_cpc.append(end-start)\n",
    "    \n",
    "    cpc_scores = ut.structural_scores(ut.named_dag_to_bn(TNdag), LNdagCPC)\n",
    "    gnb.sideBySide(ut.named_dag_to_bn(TNdag), LNdagCPC[0][0], captions=['True', 'Learned'])\n",
    "    \n",
    "    start = time.time()\n",
    "    LNdagElidan = hc.hill_climbing(data, 4, 2)[1]\n",
    "    end = time.time()\n",
    "    \n",
    "    LNdagElidan = [[ut.dag_to_bn(LNdagElidan, data.getDescription())]]\n",
    "    times_elidan.append(end - start)\n",
    "    \n",
    "    elidan_scores = ut.structural_scores(ut.named_dag_to_bn(TNdag), LNdagElidan)\n",
    "    gnb.sideBySide(ut.named_dag_to_bn(TNdag), LNdagElidan[0][0], captions=['True', 'Learned'])\n",
    "    \n",
    "    print(\"CPC scores: \", cpc_scores)\n",
    "    print(\"Elidan scores: \", elidan_scores)\n",
    "    print(\"\\n\")"
   ]
  },
  {
   "cell_type": "code",
   "execution_count": 36,
   "metadata": {},
   "outputs": [
    {
     "data": {
      "image/png": "[encoded data removed]",
      "text/plain": [
       "<Figure size 432x288 with 1 Axes>"
      ]
     },
     "metadata": {
      "needs_background": "light"
     },
     "output_type": "display_data"
    }
   ],
   "source": [
    "plt.plot(n_nodes, times_cpc, label='cpc')\n",
    "plt.plot(n_nodes, times_elidan, label='elidan')\n",
    "plt.legend()\n",
    "plt.xlabel(\"Nombre de noeuds\")\n",
    "plt.ylabel(\"Temps (s)\")\n",
    "plt.title(\"Complexité en temps des deux méthodes en fonction du nombre de variables\\n Apprentissage sur n=30000 données\")\n",
    "plt.savefig(\"complexite_temps_noeuds.pdf\", transparency=True)\n",
    "plt.show()"
   ]
  },
  {
   "cell_type": "code",
   "execution_count": 26,
   "metadata": {},
   "outputs": [
    {
     "data": {
      "text/plain": [
       "21"
      ]
     },
     "execution_count": 26,
     "metadata": {},
     "output_type": "execute_result"
    }
   ],
   "source": [
    "len(n_nodes)"
   ]
  },
  {
   "cell_type": "code",
   "execution_count": null,
   "metadata": {},
   "outputs": [],
   "source": [
    "ut.generate_data()"
   ]
  },
  {
   "cell_type": "code",
   "execution_count": 27,
   "metadata": {},
   "outputs": [],
   "source": [
    "n_nodes = n_nodes[0:20]"
   ]
  },
  {
   "cell_type": "code",
   "execution_count": null,
   "metadata": {},
   "outputs": [],
   "source": [
    "for i in range(30, 71, 10):\n",
    "    print(\"Number of node :\", i, flush=True)\n",
    "    \n",
    "    n_nodes.append(i)\n",
    "    n_arc = int(1.2*(i-1) )\n",
    "    bn = generator.generate(i, n_arc)\n",
    "    TNdag = otagr.NamedDAG(bn.dag(), bn.names())\n",
    "    \n",
    "    data = ut.generate_gaussian_data(TNdag, 30000, 0.8)\n",
    "    \n",
    "    learner = otagr.ContinuousPC(data, 5, 0.05)\n",
    "    start = time.time()\n",
    "    LNdagCPC = learner.learnDAG()\n",
    "    end = time.time()\n",
    "    \n",
    "    LNdagCPC = [[ut.named_dag_to_bn(LNdagCPC)]]\n",
    "    times_cpc.append(end-start)\n",
    "    \n",
    "    cpc_scores = ut.structural_scores(ut.named_dag_to_bn(TNdag), LNdagCPC)\n",
    "    gnb.sideBySide(ut.named_dag_to_bn(TNdag), LNdagCPC[0][0], captions=['True', 'Learned'])\n",
    "    \n",
    "    start = time.time()\n",
    "    LNdagElidan = hc.hill_climbing(data, 4, 2)[1]\n",
    "    end = time.time()\n",
    "    \n",
    "    LNdagElidan = [[ut.dag_to_bn(LNdagElidan, data.getDescription())]]\n",
    "    times_elidan.append(end - start)\n",
    "    \n",
    "    elidan_scores = ut.structural_scores(ut.named_dag_to_bn(TNdag), LNdagElidan)\n",
    "    gnb.sideBySide(ut.named_dag_to_bn(TNdag), LNdagElidan[0][0], captions=['True', 'Learned'])\n",
    "    \n",
    "    print(\"CPC scores: \", cpc_scores)\n",
    "    print(\"Elidan scores: \", elidan_scores)\n",
    "    print(\"\\n\")"
   ]
  },
  {
   "cell_type": "code",
   "execution_count": 10,
   "metadata": {},
   "outputs": [
    {
     "data": {
      "image/png": "[encoded data removed]",
      "text/plain": [
       "<Figure size 432x288 with 1 Axes>"
      ]
     },
     "metadata": {
      "needs_background": "light"
     },
     "output_type": "display_data"
    }
   ],
   "source": [
    "plt.plot(n_nodes, times_cpc, label='cpc')\n",
    "plt.plot(n_nodes, times_elidan, label='elidan')\n",
    "plt.legend()\n",
    "plt.xlabel(\"Number of node\")\n",
    "plt.ylabel(\"Time (s)\")\n",
    "plt.title(\"Time complexity in function of the number of variables \\n Learning on n=30000 gaussian data\")\n",
    "plt.show()"
   ]
  },
  {
   "cell_type": "code",
   "execution_count": 4,
   "metadata": {},
   "outputs": [],
   "source": [
    "generator = gum.BNGenerator()\n",
    "n_arc = int(1.2*(5-1) )\n",
    "bn = generator.generate(5, n_arc)\n",
    "TNdag = otagr.NamedDAG(bn.dag(), bn.names())"
   ]
  },
  {
   "cell_type": "code",
   "execution_count": 5,
   "metadata": {},
   "outputs": [],
   "source": [
    "order = TNdag.getTopologicalOrder()"
   ]
  },
  {
   "cell_type": "code",
   "execution_count": 6,
   "metadata": {},
   "outputs": [
    {
     "data": {
      "text/plain": [
       "5"
      ]
     },
     "execution_count": 6,
     "metadata": {},
     "output_type": "execute_result"
    }
   ],
   "source": [
    "order.getSize()"
   ]
  },
  {
   "cell_type": "code",
   "execution_count": null,
   "metadata": {},
   "outputs": [],
   "source": [
    "n_nodes = np.linspace(start_size, end_size, n_samples, dtype=int)\n",
    "\n",
    "times_cpc=[]\n",
    "times_elidan=[]\n",
    "for i in n_nodes:\n",
    "    print(i)\n",
    "    n_arc = int( density * (i-1) )\n",
    "    print(n_arc)\n",
    "    bn = generator.generate(i, n_arc)\n",
    "    TNdag = otagr.NamedDAG(bn.dag(), bn.names())\n",
    "    \n",
    "    data = ut.generate_data(TNdag, sample_size, distribution, 0.8)\n",
    "    \n",
    "    learner = otagr.ContinuousPC(data, 5, 0.05)\n",
    "    start = time.time()\n",
    "    LNdagCPC = learner.learnDAG()\n",
    "    end = time.time()\n",
    "    times_cpc.append(end-start)\n",
    "    \n",
    "    start = time.time()\n",
    "    LNdagElidan = hc.hill_climbing(data, 4, 2)[1]\n",
    "    end = time.time()\n",
    "    times_elidan.append(end - start)\n",
    "    \n",
    "    LNdagCPC = [[ut.named_dag_to_bn(LNdagCPC)]]\n",
    "    LNdagElidan = [[ut.dag_to_bn(LNdagElidan, data.getDescription())]]\n",
    "    \n",
    "    #cpc_scores = ut.structural_scores(ut.named_dag_to_bn(TNdag), LNdagCPC)\n",
    "    #elidan_scores = ut.structural_scores(ut.named_dag_to_bn(TNdag), LNdagElidan)"
   ]
  }
 ],
 "metadata": {
  "kernelspec": {
   "display_name": "Python 3",
   "language": "python",
   "name": "python3"
  },
  "language_info": {
   "codemirror_mode": {
    "name": "ipython",
    "version": 3
   },
   "file_extension": ".py",
   "mimetype": "text/x-python",
   "name": "python",
   "nbconvert_exporter": "python",
   "pygments_lexer": "ipython3",
   "version": "3.7.4"
  }
 },
 "nbformat": 4,
 "nbformat_minor": 2
}
